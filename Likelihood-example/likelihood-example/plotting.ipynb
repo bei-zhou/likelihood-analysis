{
 "cells": [
  {
   "cell_type": "code",
   "execution_count": 27,
   "metadata": {
    "collapsed": false,
    "deletable": true,
    "editable": true
   },
   "outputs": [],
   "source": [
    "# To run this example you'll need to install matplotlib.\n",
    "# The easiest way to install is by opening a terminal\n",
    "# and running `pip install --user matplotlib`.\n",
    "#\n",
    "# NOTE:\n",
    "#   If your terminal doesn't recognize pip you might need to install it.\n",
    "#   Search google for the pip (python package index) page to download get-pip.py\n",
    "#   and follow the instructions for installing pip. If that doesn't work feel free to use pencil and paper.\n",
    "\n",
    "import matplotlib as mpl\n",
    "mpl.use(\"Agg\")\n",
    "import matplotlib.pyplot as plt"
   ]
  },
  {
   "cell_type": "code",
   "execution_count": 28,
   "metadata": {
    "collapsed": false
   },
   "outputs": [],
   "source": [
    "# make sure you move plotting.ipynb into the likelihood-example directory so you\n",
    "# can easily access data/eventsummary_4years.txt\n",
    "\n",
    "import numpy as np\n",
    "\n",
    "def loadEvents(filename):\n",
    "    ID,E,EerrMin,EerrMax,DEC,RA,Anger = np.loadtxt(filename,comments='#',usecols=(0,1,2,3,5,6,7), unpack =True)\n",
    "    #for i in range(len(ID)):\n",
    "    #    print ID[i], DEC[i]\n",
    "    topo = np.loadtxt(filename,comments='#',usecols=[8], unpack =True, dtype = 'str')\n",
    "    \n",
    "    array = np.recarray(len(E), [('topology', topo.dtype),\n",
    "                                 ('energy', float),\n",
    "                                 ('energy_error', float),\n",
    "                                 ('RA', float),\n",
    "                                 ('DEC', float),\n",
    "                                 ('ID', int),\n",
    "                                 ('angular_error', float)])\n",
    "    array.ID[:] = ID\n",
    "    array.topology[:] = topo\n",
    "    array.energy[:], array.energy_error[:] = E, np.array([EerrMin, EerrMax]).max(axis=0)\n",
    "    array.RA[:], array.DEC[:], array.angular_error[:] = np.radians(RA), np.radians(DEC), np.radians(Anger)\n",
    "    \n",
    "    return array\n",
    "\n",
    "HESEevents = loadEvents(\"data/eventsummary_4years.txt\")\n",
    "\n",
    "# convert neutrino event location to degrees for plotting later (it's easier to visualize in degrees)\n",
    "HESEevents.RA  = np.degrees( HESEevents.RA )\n",
    "HESEevents.DEC = np.degrees( HESEevents.DEC )\n",
    "HESEevents.angular_error = np.degrees( HESEevents.angular_error )"
   ]
  },
  {
   "cell_type": "code",
   "execution_count": 15,
   "metadata": {
    "collapsed": false
   },
   "outputs": [
    {
     "name": "stdout",
     "output_type": "stream",
     "text": [
      "[('Track',  200.5,  16.4,  93.3,  14., 38,  1.2)]\n"
     ]
    }
   ],
   "source": [
    "# plot events near HAWC source 2HWC J0631+169 (Geminga)\n",
    "src_ra  = 98.00 # source right ascension in degrees\n",
    "src_dec = 17.00 # source declination in degrees\n",
    "\n",
    "# make a scatter plot of the events\n",
    "plt.scatter(x=HESEevents.RA, y=HESEevents.DEC,\n",
    "            s=10*HESEevents.angular_error, # s is the marker size, I set it to scale with angular error\n",
    "            marker='o',color='g')\n",
    "\n",
    "\n",
    "# zoom to region centered on source\n",
    "dx = 10\n",
    "plt.xlim(src_ra - dx, src_ra + dx)\n",
    "\n",
    "dy = dx # setting dy = dx just draws a square\n",
    "plt.ylim(src_dec - dy, src_dec + dy)\n",
    "\n",
    "# print list of nearby events\n",
    "mask = ((HESEevents.RA  > src_ra  - dx) & (HESEevents.RA  < src_ra  + dx)) & \\\n",
    "       ((HESEevents.DEC > src_dec - dy) & (HESEevents.DEC < src_dec + dy)) \n",
    "print(HESEevents[mask])\n",
    "    \n",
    "# this will create a picture inside the likelihood-example folder\n",
    "# called event_locations.png. Open it and take a look. \n",
    "plt.savefig(\"event_locations.png\")\n",
    "plt.clf() # clear figure for making more plots later"
   ]
  },
  {
   "cell_type": "code",
   "execution_count": 29,
   "metadata": {
    "collapsed": true
   },
   "outputs": [],
   "source": [
    "# values of TS for different assumed numbers of signal events (ns)\n",
    "ns = [1, 2, 3, 4, 5]\n",
    "TS = [1.87, 3.78, 5.73, 7.72, 9.74]\n",
    "\n",
    "plt.scatter(x=ns, y=TS, marker='o')\n",
    "plt.xlabel(\"Number of signal events (ns)\")\n",
    "plt.ylabel(\"Test Statistic (TS)\")\n",
    "\n",
    "# some limits that work with these values of ns, TS\n",
    "# you'll probably need to change these to look at other sources\n",
    "plt.xlim(0,5)\n",
    "plt.ylim(0,10)\n",
    "\n",
    "plt.savefig(\"ts_versus_ns.png\")\n",
    "plt.clf() # clear figure for making more plots later"
   ]
  },
  {
   "cell_type": "code",
   "execution_count": null,
   "metadata": {
    "collapsed": true
   },
   "outputs": [],
   "source": []
  }
 ],
 "metadata": {
  "kernelspec": {
   "display_name": "Python 2",
   "language": "python",
   "name": "python2"
  },
  "language_info": {
   "codemirror_mode": {
    "name": "ipython",
    "version": 2
   },
   "file_extension": ".py",
   "mimetype": "text/x-python",
   "name": "python",
   "nbconvert_exporter": "python",
   "pygments_lexer": "ipython2",
   "version": "2.7.10"
  }
 },
 "nbformat": 4,
 "nbformat_minor": 2
}
