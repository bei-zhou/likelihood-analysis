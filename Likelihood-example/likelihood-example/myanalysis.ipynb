{
 "cells": [
  {
   "cell_type": "code",
   "execution_count": null,
   "metadata": {
    "collapsed": true
   },
   "outputs": [],
   "source": [
    "# Step 0 - have some fun"
   ]
  },
  {
   "cell_type": "code",
   "execution_count": 19,
   "metadata": {
    "collapsed": true,
    "deletable": true,
    "editable": true
   },
   "outputs": [],
   "source": [
    "def windows_say(words):\n",
    "\n",
    "    cmd1 = 'Add-Type -AssemblyName System.speech;'\n",
    "    cmd2 = '$speak = New-Object System.Speech.Synthesis.SpeechSynthesizer;'\n",
    "    cmd3 = '$speak.Speak(\"%s\")' % words\n",
    "        \n",
    "    import subprocess\n",
    "    subprocess.call(['powershell.exe', cmd1, cmd2, cmd3])"
   ]
  },
  {
   "cell_type": "code",
   "execution_count": 1,
   "metadata": {
    "collapsed": false,
    "deletable": true,
    "editable": true
   },
   "outputs": [],
   "source": [
    "def macos_say(words, voice = \"z\"):\n",
    "    \n",
    "    import os\n",
    "    os.system('say -v %s \"%s\"' % (voice, words))"
   ]
  },
  {
   "cell_type": "code",
   "execution_count": 24,
   "metadata": {
    "collapsed": true,
    "deletable": true,
    "editable": true
   },
   "outputs": [],
   "source": [
    "windows_say(\"Did you know computers can talk?\") # this will only work in Windows 10"
   ]
  },
  {
   "cell_type": "code",
   "execution_count": 2,
   "metadata": {
    "collapsed": false,
    "deletable": true,
    "editable": true
   },
   "outputs": [
    {
     "name": "stdout",
     "output_type": "stream",
     "text": [
      "enter yes or no: no\n",
      "enter yes or no: no\n",
      "enter yes or no: np\n",
      "enter yes or no: yes\n",
      "enter yes or no: no\n",
      "enter yes or no: yes\n"
     ]
    }
   ],
   "source": [
    "macos_say(\"Would you like to hear my song?\")  # unfortunately, this will only work on a mac\n",
    "while True:\n",
    "    answer = raw_input(\"enter yes or no: \")\n",
    "    if answer == \"yes\":\n",
    "        macos_say(\"playing binary solo number 1\")\n",
    "        macos_say(\"0000 1111 0000\", voice = \"good news\")\n",
    "        while True:\n",
    "            macos_say(\"Did you like my song?\")\n",
    "            answer = raw_input(\"enter yes or no: \")\n",
    "            if answer == \"yes\":\n",
    "                macos_say(\"oh, you are the best. thank you\")\n",
    "                break\n",
    "            elif answer == \"no\":\n",
    "                macos_say(\"I'm sorry that answer cannot possibly be correct. Please try again.\")\n",
    "            else:\n",
    "                macos_say(\"I'm sorry. I did not understand your answer. Try again.\")\n",
    "        break\n",
    "    elif answer == \"no\":\n",
    "        macos_say(\"You are no fun.\")\n",
    "    else:\n",
    "        macos_say(\"I'm sorry. I did not understand your answer. Try again.\")"
   ]
  },
  {
   "cell_type": "code",
   "execution_count": null,
   "metadata": {
    "collapsed": false,
    "deletable": true,
    "editable": true
   },
   "outputs": [],
   "source": [
    "# step 1 - load HAWC catalog into something like a python dictionary\n",
    "# where you can retrieve the coordinates (right ascension - RA, declination - Dec)\n",
    "# based on a source name"
   ]
  },
  {
   "cell_type": "code",
   "execution_count": 1,
   "metadata": {
    "collapsed": true,
    "deletable": true,
    "editable": true
   },
   "outputs": [],
   "source": [
    "# step 2 - load the neutrino events under data/eventsummary_4years.txt which each column as a separate field"
   ]
  },
  {
   "cell_type": "code",
   "execution_count": 2,
   "metadata": {
    "collapsed": true
   },
   "outputs": [],
   "source": [
    "# step 3 - calculate the angular probablitiy between one source and one neutrino event\n",
    "# using the event_angular_distribution function below\n",
    "\n",
    "import numpy as np\n",
    "\n",
    "def sph_dot(th1,th2,phi1,phi2):\n",
    "    return np.sin(th1)*np.sin(th2)*np.cos(phi1-phi2) + np.cos(th1)*np.cos(th2)\n",
    "\n",
    "# Implementation of the kent distribution\n",
    "def event_angular_distribution(event,source):\n",
    "    kappa = 1./(event.angular_error)**2\n",
    "    log_dist = np.log(kappa) - np.log(2*np.pi) - kappa + kappa*sph_dot(np.pi/2-event.DEC, np.pi/2-source.DEC, event.RA, source.RA)\n",
    "    return np.exp(log_dist)"
   ]
  },
  {
   "cell_type": "code",
   "execution_count": 3,
   "metadata": {
    "collapsed": true
   },
   "outputs": [],
   "source": [
    "# step 4 - calculate angular probability between one source and all neutrino events as a list or array"
   ]
  },
  {
   "cell_type": "code",
   "execution_count": null,
   "metadata": {
    "collapsed": true
   },
   "outputs": [],
   "source": [
    "# step 5 - sum the angular probabilities of all events for one source"
   ]
  }
 ],
 "metadata": {
  "kernelspec": {
   "display_name": "Python 2",
   "language": "python",
   "name": "python2"
  },
  "language_info": {
   "codemirror_mode": {
    "name": "ipython",
    "version": 2
   },
   "file_extension": ".py",
   "mimetype": "text/x-python",
   "name": "python",
   "nbconvert_exporter": "python",
   "pygments_lexer": "ipython2",
   "version": "2.7.10"
  }
 },
 "nbformat": 4,
 "nbformat_minor": 2
}
