{
 "cells": [
  {
   "cell_type": "code",
   "execution_count": 1,
   "metadata": {
    "collapsed": true,
    "deletable": true,
    "editable": true
   },
   "outputs": [],
   "source": [
    "# classic\n",
    "%matplotlib inline\n",
    "import numpy as np\n",
    "import scipy as sp\n",
    "import matplotlib.pyplot as plt\n",
    "import os,sys\n",
    "import tables\n",
    "import scipy.stats\n",
    "\n",
    "# some nice formating things\n",
    "plt.rc('font', family='serif', size=25)\n",
    "plt.rc('legend', fontsize=25)\n",
    "plt.rc('axes', labelsize=25)\n",
    "plt.rc('axes', titlesize=25)"
   ]
  },
  {
   "cell_type": "markdown",
   "metadata": {
    "deletable": true,
    "editable": true
   },
   "source": [
    "## Load the HESE event sample"
   ]
  },
  {
   "cell_type": "code",
   "execution_count": 2,
   "metadata": {
    "collapsed": true,
    "deletable": true,
    "editable": true
   },
   "outputs": [],
   "source": [
    "def loadEvents(filename):\n",
    "    E,EerrMin,EerrMax,DEC,RA,Anger = np.loadtxt(filename,comments='#',usecols=(1,2,3,5,6,7), unpack =True)\n",
    "    topo = np.loadtxt(filename,comments='#',usecols=[8], unpack =True, dtype = 'str')\n",
    "    \n",
    "    array = np.recarray(len(E), [('topology', topo.dtype),\n",
    "                                 ('energy', float),\n",
    "                                 ('energy_error', float),\n",
    "                                 ('RA', float),\n",
    "                                 ('DEC', float),\n",
    "                                 ('angular_error', float)])\n",
    "    array.topology[:] = topo\n",
    "    array.energy[:], array.energy_error[:] = E, np.array([EerrMin, EerrMax]).max(axis=0)\n",
    "    array.RA[:], array.DEC[:], array.angular_error[:] = np.radians(RA), np.radians(DEC), np.radians(Anger)\n",
    "    \n",
    "    return array"
   ]
  },
  {
   "cell_type": "code",
   "execution_count": 4,
   "metadata": {
    "collapsed": false,
    "deletable": true,
    "editable": true
   },
   "outputs": [
    {
     "name": "stdout",
     "output_type": "stream",
     "text": [
      "[('Shower',    47.6,    6.5,  0.6143559 , -0.03141593,  0.28448867)\n",
      " ('Shower',   117. ,   15.4,  4.93230047, -0.48869219,  0.44331363)\n",
      " ('Track',    78.7,   10.8,  2.23227611, -0.54454273,  0.02443461)\n",
      " ('Shower',   165.4,   19.8,  2.95833308, -0.89360858,  0.12391838)\n",
      " ('Track',    71.4,    9. ,  1.93033415, -0.00698132,  0.02094395)\n",
      " ('Shower',    28.4,    2.7,  2.33699587, -0.47472956,  0.17104227)\n",
      " ('Shower',    34.3,    3.5,  0.27227136, -0.78714349,  0.42062435)\n",
      " ('Track',    32.6,   10.3,  3.18348056, -0.3700098 ,  0.02268928)\n",
      " ('Shower',    63.2,    7.1,  2.64068316,  0.58643063,  0.28797933)\n",
      " ('Shower',    97.2,   10.4,  0.08726646, -0.5131268 ,  0.14137167)\n",
      " ('Shower',    88.4,   12.5,  2.71049633, -0.1553343 ,  0.29146999)\n",
      " ('Shower',   104.1,   12.5,  5.16791992, -0.92153385,  0.17104227)\n",
      " ('Track',   252.7,   25.9,  1.18507856,  0.70336769,  0.02094395)\n",
      " ('Shower',  1040.7,  131.6,  4.63559449, -0.48694686,  0.23038346)\n",
      " ('Shower',    57.5,    8.3,  5.01433094, -0.86742864,  0.34382986)\n",
      " ('Shower',    30.6,    3.6,  3.35277749, -0.39444441,  0.33859387)\n",
      " ('Shower',   199.7,   27.2,  4.31794457,  0.25307274,  0.20245819)\n",
      " ('Track',    31.5,    4.6,  6.03185789, -0.43284165,  0.02268928)\n",
      " ('Shower',    71.5,    7. ,  1.34215819, -1.04196156,  0.16929694)\n",
      " ('Shower',  1140.8,  142.8,  0.6684611 , -1.17286126,  0.18675023)\n",
      " ('Shower',    30.2,    3.5,  0.15707963, -0.41887902,  0.36477381)\n",
      " ('Shower',   219.5,   21.2,  5.12603201, -0.38571776,  0.21118484)\n",
      " ('Track',    82.2,    8.6,  3.64250215, -0.23038346,  0.03316126)\n",
      " ('Shower',    30.5,    3.2,  4.92531915, -0.26354472,  0.27052603)\n",
      " ('Shower',    33.5,    4.9,  4.99164166, -0.25307274,  0.80808744)\n",
      " ('Shower',   210. ,   29. ,  2.50280215,  0.39618974,  0.20594885)\n",
      " ('Shower',    60.2,    5.6,  2.1240657 , -0.21991149,  0.11519173)\n",
      " ('Track',    46.1,    5.7,  2.87630261, -1.24791042,  0.02268928)\n",
      " ('Shower',    32.7,    3.2,  5.2028265 ,  0.71558499,  0.12915436)\n",
      " ('Shower',   128.7,   13.8,  1.80117979, -1.44338729,  0.13962634)\n",
      " ('Shower',    42.5,    5.4,  2.54992604,  1.3665928 ,  0.45378561)\n",
      " ('Shower',   384.7,   46.4,  5.10508806,  0.13613568,  0.23561945)\n",
      " ('Shower',    42.1,    6.5,  5.6443948 ,  0.54628806,  0.74525559)\n",
      " ('Shower',  2003.7,  236.2,  3.63726616, -0.97389372,  0.27750735)\n",
      " ('Shower',    28.9,    3. ,  4.49771348, -0.05235988,  0.20420352)\n",
      " ('Track',    30.8,    3.3,  2.91993584,  0.36128316,  0.02094395)\n",
      " ('Track',   200.5,   16.4,  1.62839219,  0.2443461 ,  0.02094395)\n",
      " ('Shower',   101.3,   13.3,  1.85353967, -0.31241394,  0.24783675)\n",
      " ('Shower',   157.3,   15.9,  2.51152879, -0.84648469,  0.20420352)\n",
      " ('Shower',    87.6,    8.4,  1.15366264,  0.05759587,  0.19373155)\n",
      " ('Shower',    76.3,   10.3,  0.74176493, -0.4415683 ,  0.36128316)\n",
      " ('Track',    46.5,    5.9,  3.60585023, -0.38397244,  0.02268928)\n",
      " ('Track',    84.6,    7.4,  5.87652359,  0.        ,  0.02094395)\n",
      " ('Track',   429.9,   57.4,  3.82227106, -1.50621914,  0.02094395)\n",
      " ('Shower',   158. ,   15.3,  2.62672052, -0.38920842,  0.13264502)\n",
      " ('Track',    74.3,    8.3,  3.65471945,  1.17635192,  0.02094395)\n",
      " ('Shower',   104.7,   13.5,  3.71755131, -0.57944931,  0.14137167)\n",
      " ('Shower',    59.9,    8.3,  3.54650904, -0.45902159,  0.38048178)\n",
      " ('Shower',    22.2,    2.3,  2.94262512,  1.03498025,  0.143117  )\n",
      " ('Shower',    66.2,    6.7,  1.54636172,  0.9424778 ,  0.1134464 )\n",
      " ('Shower',   158.1,   16.3,  4.41219235, -0.9424778 ,  0.13613568)\n",
      " ('Track',    27.6,    2.6,  4.17133691, -0.65798913,  0.02094395)\n",
      " ('Shower',    54.5,    5.1,  2.97578637,  0.10471976,  0.20245819)]\n",
      "53\n"
     ]
    }
   ],
   "source": [
    "HESEEvents=loadEvents(\"data/eventsummary_4years.txt\")\n",
    "print HESEEvents\n",
    "print len(HESEEvents)"
   ]
  },
  {
   "cell_type": "markdown",
   "metadata": {
    "deletable": true,
    "editable": true
   },
   "source": [
    "## Load a catalog"
   ]
  },
  {
   "cell_type": "code",
   "execution_count": 5,
   "metadata": {
    "collapsed": true,
    "deletable": true,
    "editable": true
   },
   "outputs": [],
   "source": [
    "def loadCatalog(filename):\n",
    "    DEC,RA = np.loadtxt(filename,comments='#',usecols=(1,2), unpack =True)\n",
    "    NAMES = np.loadtxt(filename,comments='#',usecols=[0], unpack =True, dtype = 'str')\n",
    "    \n",
    "    array = np.recarray(len(DEC), [('name', NAMES.dtype), ('RA', float), ('DEC', float)])\n",
    "    array.name[:] = NAMES\n",
    "    array.DEC[:], array.RA[:] = np.radians(DEC), np.radians(RA)\n",
    "    \n",
    "    return array"
   ]
  },
  {
   "cell_type": "code",
   "execution_count": 7,
   "metadata": {
    "collapsed": false,
    "deletable": true,
    "editable": true
   },
   "outputs": [
    {
     "name": "stdout",
     "output_type": "stream",
     "text": [
      "[('CTA1',   1.27380431e+00,  0.02807071)\n",
      " ('SJ001355.9-185406',  -2.98601594e-01,  0.06050475)\n",
      " ('Tycho',   1.12016201e+00,  0.11104657)\n",
      " ('KUV00311-1938',  -3.25343917e-01,  0.14647676)\n",
      " ('1ES0033+595',   1.04431078e+00,  0.15654367)\n",
      " ('NGC253',  -4.31277646e-01,  0.20757055)\n",
      " ('RGBJ0136+391',   6.82423738e-01,  0.42124249)\n",
      " ('RGBJ0152+017',   3.10295300e-02,  0.49112838)\n",
      " ('3C66A',   7.51245464e-01,  0.62261712)\n",
      " ('MAGICJ0223+403',   7.50695200e-01,  0.62482787)\n",
      " ('1ES0229+200',   3.53821873e-01,  0.66709393)\n",
      " ('LSI+61303',   1.06913537e+00,  0.70060425)\n",
      " ('PKS0301-243',  -4.16668949e-01,  0.80019637)\n",
      " ('IC310',   7.21252465e-01,  0.85833838)\n",
      " ('RBS0413',   3.27452857e-01,  0.87171924)\n",
      " ('NGC1275',   7.24515261e-01,  0.87179923)\n",
      " ('1ES0347-121',  -1.74930472e-01,  1.0008736 )\n",
      " ('1ES0414+009',   1.90066356e-02,  1.12086208)\n",
      " ('PKS0447-439',  -7.35888990e-01,  1.26305115)\n",
      " ('1ES0502+675',   1.18024982e+00,  1.34362718)\n",
      " ('VERJ0521+211',   3.70258996e-01,  1.40389922)\n",
      " ('Crab',   3.84224538e-01,  1.45961158)\n",
      " ('N157B',  -1.20138285e+00,  1.47363967)\n",
      " ('PKS0548-322',  -5.53788608e-01,  1.52995562)\n",
      " ('IC443',   3.92752411e-01,  1.64431832)\n",
      " ('Geminga',   3.03105513e-01,  1.71245888)\n",
      " ('HESSJ0632+057',   1.01326059e-01,  1.71466236)\n",
      " ('RXJ0648.7+1516',   2.66511777e-01,  1.78355196)\n",
      " ('1ES0647+250',   4.37204978e-01,  1.79234406)\n",
      " ('RGBJ0710+591',   1.03236225e+00,  1.87814881)\n",
      " ('S50716+714',   1.24517607e+00,  1.92810886)\n",
      " ('1ES0806+524',   9.13098087e-01,  2.13795561)\n",
      " ('VelaX',  -7.74926188e-01,  2.24711141)\n",
      " ('RBS0723',   2.01827935e-01,  2.3004094 )\n",
      " ('RXJ0852.0-4622',  -7.96451915e-01,  2.32128791)\n",
      " ('M82',   1.21613573e+00,  2.60000971)\n",
      " ('1RXSJ101015.9-311909',  -5.35726875e-01,  2.66272012)\n",
      " ('1ES1011+496',   8.62779275e-01,  2.68374188)\n",
      " ('HESSJ1018-589',  -1.02974426e+00,  2.6954865 )\n",
      " ('Westerlund2',  -9.81049573e-01,  2.72009564)\n",
      " ('HESSJ1026-582',  -1.00880031e+00,  2.73423281)\n",
      " ('1ES1101-232',  -3.92771804e-01,  2.89553759)\n",
      " ('Markarian421',   6.66623660e-01,  2.89862828)\n",
      " ('G292.2-0.5',  -1.05766953e+00,  2.96269641)\n",
      " ('Markarian180',   1.22447937e+00,  3.03879276)\n",
      " ('RXJ1136.5+6737',   1.18015286e+00,  3.03906183)\n",
      " ('1ES1215+303',   5.25373194e-01,  3.21929617)\n",
      " ('1ES1218+304',   5.26939142e-01,  3.23513503)\n",
      " ('WComae',   4.92759777e-01,  3.23552773)\n",
      " ('MS1221.8+2452',   4.29467351e-01,  3.24807228)\n",
      " ('4C+21.35',   3.73141698e-01,  3.25026849)\n",
      " ('M87',   2.16377194e-01,  3.27592483)\n",
      " ('3C279',  -7.34880578e-02,  3.38674596)\n",
      " ('HESSJ1303-631',  -1.09645947e+00,  3.41560935)\n",
      " ('PSRB1259-63',  -1.08504696e+00,  3.41570389)\n",
      " ('1ES1312-423',  -7.22619640e-01,  3.46873281)\n",
      " ('CentaurusA',  -7.50287957e-01,  3.51439498)\n",
      " ('HESSJ1356-645',  -1.10828408e+00,  3.64773814)\n",
      " ('Kookaburra(Rabbit)',  -1.03017574e+00,  3.74402213)\n",
      " ('Kookaburra()',  -1.03393305e+00,  3.75311239)\n",
      " ('PKS1424+240',   4.15291399e-01,  3.78300115)\n",
      " ('HESSJ1427-608',  -1.03236225e+00,  3.7867827 )\n",
      " ('H1426+428',   7.44775625e-01,  3.78973522)\n",
      " ('RCW86',  -1.07433936e+00,  3.85157514)\n",
      " ('1ES1440+122',   2.09633436e-01,  3.85196348)\n",
      " ('G318.2+0.1',  -1.02159939e+00,  3.91724606)\n",
      " ('HESSJ1458-608',  -1.03188714e+00,  3.9189623 )\n",
      " ('SN1006SW',  -7.13524535e-01,  3.93595017)\n",
      " ('HESSJ1503-582',  -1.00829125e+00,  3.94284422)\n",
      " ('SN1006NE',  -7.01569030e-01,  3.94469137)\n",
      " ('HESSJ1507-622',  -1.07599548e+00,  3.95701048)\n",
      " ('PKS1510-089',  -1.55229584e-01,  3.98314679)\n",
      " ('MSH15-52',  -1.02699537e+00,  3.9885864 )\n",
      " ('APLib',  -4.12387365e-01,  4.00420709)\n",
      " ('SNRG327.1-1.1',  -9.58452407e-01,  4.16522826)\n",
      " ('PG1553+113',   1.95384762e-01,  4.17022426)\n",
      " ('HESSJ1614-518',  -8.75806219e-01,  4.25127299)\n",
      " ('HESSJ1616-508',  -8.56956663e-01,  4.2603487 )\n",
      " ('HESSJ1626-490',  -8.53693867e-01,  4.30252749)\n",
      " ('HESSJ1632-478',  -8.05993049e-01,  4.32911468)\n",
      " ('HESSJ1634-472',  -8.15592359e-01,  4.34133198)\n",
      " ('HESSJ1640-465',  -7.93601211e-01,  4.36646472)\n",
      " ('HESSJ1641-463',  -7.97562139e-01,  4.36781008)\n",
      " ('Westerlund1',  -7.71086464e-01,  4.39313917)\n",
      " ('Markarian501',   6.93947759e-01,  4.42384242)\n",
      " ('HESSJ1702-420',  -7.32761942e-01,  4.46251601)\n",
      " ('HESSJ1708-443',  -7.62127107e-01,  4.48629612)\n",
      " ('HESSJ1708-410',  -7.14014197e-01,  4.48724151)\n",
      " ('RXJ1713.7-3946',  -6.67413906e-01,  4.50975625)\n",
      " ('CTB37B',  -6.59734457e-01,  4.51150158)\n",
      " ('CTB37A',  -6.53334917e-01,  4.51305784)\n",
      " ('SNRG349.7+0.2',  -6.38063286e-01,  4.52920213)\n",
      " ('HESSJ1718-385',  -6.53625805e-01,  4.52963846)\n",
      " ('H1722+119',   2.07185127e-01,  4.55998538)\n",
      " ('1ES1727+502',   8.76494654e-01,  4.57411527)\n",
      " ('HESSJ1729-345',  -5.83996864e-01,  4.57967123)\n",
      " ('HESSJ1731-347',  -5.80234710e-01,  4.5904341 )\n",
      " ('HESSJ1741-302',  -5.20108117e-01,  4.62948584)\n",
      " ('1ES1741+196',   3.41837278e-01,  4.64241582)\n",
      " ('HESSJ1745-303',  -5.17141057e-01,  4.64711367)\n",
      " ('GalCentreRidge',  -5.06038824e-01,  4.64981893)\n",
      " ('GalacticCentre',  -5.06038824e-01,  4.64981893)\n",
      " ('G0.9+0.1',  -4.86045108e-01,  4.65735293)\n",
      " ('Terzan5',  -4.04770942e-01,  4.65922916)\n",
      " ('HESSJ1800-240B',  -4.18198342e-01,  4.71430884)\n",
      " ('W28',  -3.95578875e-01,  4.71982117)\n",
      " ('HESSJ1800-240A',  -3.84635661e-01,  4.72095564)\n",
      " ('HESSJ1804-216',  -3.54301838e-01,  4.7321112 )\n",
      " ('HESSJ1808-204',  -3.42084533e-01,  4.74729557)\n",
      " ('HESSJ1809-193',  -3.26376570e-01,  4.7582766 )\n",
      " ('HESSJ1813-178',  -2.82045207e-01,  4.77173017)\n",
      " ('SNRG15.4+0.1',  -2.53649670e-01,  4.79127786)\n",
      " ('HESSJ1825-137',  -2.12251430e-01,  4.82445366)\n",
      " ('LS5039',  -2.29947129e-01,  4.82692621)\n",
      " ('HESSJ1831-098',  -1.41371669e-01,  4.84947005)\n",
      " ('HESSJ1832-093',  -1.50505559e-01,  4.85565142)\n",
      " ('HESSJ1834-087',  -1.26361838e-01,  4.86405809)\n",
      " ('HESSJ1837-069',  -8.81391272e-02,  4.87662446)\n",
      " ('HESSJ1841-055',  -7.76671517e-02,  4.89092162)\n",
      " ('HESSJ1843-033',  -5.23598776e-02,  4.90001187)\n",
      " ('HESSJ1846-029',  -1.77781177e-02,  4.91485445)\n",
      " ('HESSJ1848-018',  -3.62495189e-03,  4.92393743)\n",
      " ('IGRJ18490-0000',   3.74276154e-04,  4.92631035)\n",
      " ('HESSJ1857+026',   4.65421134e-02,  4.96189834)\n",
      " ('HESSJ1858+020',   3.64773814e-02,  4.96691616)\n",
      " ('MGROJ1908+06',   1.09407903e-01,  5.00865862)\n",
      " ('W49B',   1.58698910e-01,  5.02266707)\n",
      " ('HESSJ1912+101',   1.77180008e-01,  5.03011163)\n",
      " ('W51',   2.47679674e-01,  5.07419573)\n",
      " ('G54.1+0.3',   3.29343630e-01,  5.10741517)\n",
      " ('HESSJ1943+213',   3.71793916e-01,  5.16581098)\n",
      " ('1ES1959+650',   1.13705777e+00,  5.23597321)\n",
      " ('MAGICJ2001+435',   7.65922228e-01,  5.24133283)\n",
      " ('PKS2005-489',  -8.23252416e-01,  5.27722116)\n",
      " ('VERJ2016+372',   6.49262482e-01,  5.30580093)\n",
      " ('MGROJ2019+37',   6.42862941e-01,  5.31707503)\n",
      " ('MilagroDiffuse',   6.63225116e-01,  5.32325422)\n",
      " ('VERJ2019+407',   7.11347722e-01,  5.32360328)\n",
      " ('MGROJ2031+41',   7.18901119e-01,  5.36531665)\n",
      " ('TeVJ2032+4130',   7.24457084e-01,  5.37612315)\n",
      " ('PKS2155-304',  -5.19729962e-01,  5.75469234)\n",
      " ('BLLacertae',   7.37886423e-01,  5.77146204)\n",
      " ('G106.3+2.7',   1.06250312e+00,  5.88168686)\n",
      " ('Boomerang',   1.06755973e+00,  5.88495935)\n",
      " ('B32247+381',   6.70778513e-01,  5.97823265)\n",
      " ('CassiopeiaA',   1.02637965e+00,  6.12274592)\n",
      " ('1ES2344+514',   9.02417642e-01,  6.22681845)\n",
      " ('H2356-309',  -5.12725859e-01,  6.27950703)]\n"
     ]
    }
   ],
   "source": [
    "catalog=loadCatalog(\"data/SL_TeVCat.txt\")\n",
    "print catalog"
   ]
  },
  {
   "cell_type": "markdown",
   "metadata": {
    "deletable": true,
    "editable": true
   },
   "source": [
    "## Construct angular distribution of the event"
   ]
  },
  {
   "cell_type": "code",
   "execution_count": 8,
   "metadata": {
    "collapsed": false,
    "deletable": true,
    "editable": true
   },
   "outputs": [],
   "source": [
    "def sph_dot(th1,th2,phi1,phi2):\n",
    "    return np.sin(th1)*np.sin(th2)*np.cos(phi1-phi2) + np.cos(th1)*np.cos(th2)\n",
    "\n",
    "# Implementation of the kent distribution\n",
    "def event_angular_distribution(event,source):\n",
    "    kappa = 1./(event.angular_error)**2\n",
    "    log_dist = np.log(kappa) - np.log(2*np.pi) - kappa + kappa*sph_dot(np.pi/2-event.DEC, np.pi/2-source.DEC, event.RA, source.RA)\n",
    "    return np.exp(log_dist)"
   ]
  },
  {
   "cell_type": "markdown",
   "metadata": {
    "deletable": true,
    "editable": true
   },
   "source": [
    "## Construct the likelihood"
   ]
  },
  {
   "cell_type": "markdown",
   "metadata": {
    "deletable": true,
    "editable": true
   },
   "source": [
    "We will use the following likelihood definition\n",
    "\\begin{equation}\n",
    "\\mathcal{L}(ns) = \\prod_{i = 1}^N\\left[ \\frac{1}{M}\\sum_{c=1}^M \\frac{ns}{N} S_{i,c} + (1-\\frac{ns}{N}) B \\right], \\\\ B = 1/4\\pi, \\\\ S_{i,c} = event\\_angular\\_distribution(event_i, source_c)\n",
    "\\end{equation}\n",
    "where $ns = 0$ is the null hypothesis and is bounded to be between zero and N, $S$ accounts for the event angular distribution, $B$ is the background distribution which we will assume isotropic ($1/4\\pi$). Also N is the number of events and M is the number of sources in the catalog. Go ahead ahd construct the $\\log\\mathcal{L}$."
   ]
  },
  {
   "cell_type": "markdown",
   "metadata": {
    "deletable": true,
    "editable": true
   },
   "source": []
  },
  {
   "cell_type": "markdown",
   "metadata": {
    "deletable": true,
    "editable": true
   },
   "source": []
  },
  {
   "cell_type": "markdown",
   "metadata": {
    "deletable": true,
    "editable": true
   },
   "source": []
  },
  {
   "cell_type": "markdown",
   "metadata": {
    "collapsed": true,
    "deletable": true,
    "editable": true
   },
   "source": []
  },
  {
   "cell_type": "markdown",
   "metadata": {
    "deletable": true,
    "editable": true
   },
   "source": [
    "## The frequentist construction"
   ]
  },
  {
   "cell_type": "markdown",
   "metadata": {
    "deletable": true,
    "editable": true
   },
   "source": [
    "### TestStatistics definition"
   ]
  },
  {
   "cell_type": "markdown",
   "metadata": {
    "deletable": true,
    "editable": true
   },
   "source": [
    "We are going to use the following test statistic (TS) definition\n",
    "\\begin{equation}\n",
    "\\log\\mathcal{TS} = \\max_{ns}\\Big( -2 * [\\log\\mathcal{L}(ns) - \\log\\mathcal{L}(ns=0)] \\Big)\n",
    "\\end{equation}"
   ]
  },
  {
   "cell_type": "markdown",
   "metadata": {
    "deletable": true,
    "editable": true
   },
   "source": [
    "### Constructing the TS distribution under the null hypothesis"
   ]
  },
  {
   "cell_type": "markdown",
   "metadata": {
    "deletable": true,
    "editable": true
   },
   "source": [
    "In order to construct the TS distribution for a given catalog and event set, we construct event realization that would have arised from the null hypothesis and then evaluate the TS. To construct those realization we use the *scrambling* procedure where we randomize the right asension (RA) for each of the events. "
   ]
  },
  {
   "cell_type": "markdown",
   "metadata": {
    "deletable": true,
    "editable": true
   },
   "source": [
    "### Calculate the frequentist p-value"
   ]
  },
  {
   "cell_type": "markdown",
   "metadata": {
    "deletable": true,
    "editable": true
   },
   "source": [
    "To calculate the frequentist p-value use the TS distribution to calculate\n",
    "\\begin{equation}\n",
    "p_{value} = \\mathcal{P}(TS>TS_{data})\n",
    "\\end{equation}\n",
    "where $TS_{data}$ is the value of the TS evaluated at the data."
   ]
  },
  {
   "cell_type": "code",
   "execution_count": 9,
   "metadata": {
    "collapsed": false,
    "deletable": true,
    "editable": true
   },
   "outputs": [
    {
     "name": "stdout",
     "output_type": "stream",
     "text": [
      "[('IC310',  0.72125247,  0.85833838)]\n",
      "('CTA1', 1.2738043138646133, 0.02807071213042437)\n"
     ]
    }
   ],
   "source": [
    "print catalog[ catalog['name'] == 'IC310' ]\n",
    "mysource = catalog[ catalog['name'] == 'IC310' ]\n",
    "mysource = catalog[0]\n",
    "print mysource"
   ]
  },
  {
   "cell_type": "code",
   "execution_count": 10,
   "metadata": {
    "collapsed": false,
    "deletable": true,
    "editable": true
   },
   "outputs": [],
   "source": [
    "def H(source, ns):\n",
    "    sum = 0.\n",
    "    N   = len(HESEEvents)\n",
    "    for event in HESEEvents:\n",
    "        sum += np.log( (float(ns)/N)*event_angular_distribution(event, source) + (1 - float(ns)/N)/(4*np.pi) )\n",
    "        #print (float(ns)/N)*event_angular_distribution(event, source) + (1 - float(ns)/N)/(4*np.pi)\n",
    "    return sum"
   ]
  },
  {
   "cell_type": "code",
   "execution_count": 13,
   "metadata": {
    "collapsed": false,
    "deletable": true,
    "editable": true
   },
   "outputs": [
    {
     "name": "stdout",
     "output_type": "stream",
     "text": [
      "('1RXSJ101015.9-311909', -0.5357268746643276, 2.662720121735414)\n",
      " H1 -134.14, H0 -134.14, TS -0.00, ns 0.00\n",
      " H1 -134.12, H0 -134.14, TS -0.05, ns 0.10\n",
      " H1 -134.10, H0 -134.14, TS -0.09, ns 0.20\n",
      " H1 -134.09, H0 -134.14, TS -0.12, ns 0.30\n",
      " H1 -134.08, H0 -134.14, TS -0.13, ns 0.40\n",
      " H1 -134.07, H0 -134.14, TS -0.14, ns 0.50\n",
      " H1 -134.07, H0 -134.14, TS -0.14, ns 0.60\n",
      " H1 -134.08, H0 -134.14, TS -0.14, ns 0.70\n",
      " H1 -134.08, H0 -134.14, TS -0.12, ns 0.80\n",
      " H1 -134.09, H0 -134.14, TS -0.10, ns 0.90\n",
      " H1 -134.11, H0 -134.14, TS -0.07, ns 1.00\n",
      " H1 -134.12, H0 -134.14, TS -0.04, ns 1.10\n",
      " H1 -134.14, H0 -134.14, TS -0.00, ns 1.20\n",
      " H1 -134.16, H0 -134.14, TS 0.04, ns 1.30\n",
      " H1 -134.19, H0 -134.14, TS 0.09, ns 1.40\n",
      " H1 -134.21, H0 -134.14, TS 0.14, ns 1.50\n",
      " H1 -134.24, H0 -134.14, TS 0.19, ns 1.60\n",
      " H1 -134.27, H0 -134.14, TS 0.25, ns 1.70\n",
      " H1 -134.30, H0 -134.14, TS 0.31, ns 1.80\n",
      " H1 -134.33, H0 -134.14, TS 0.38, ns 1.90\n",
      " H1 -134.37, H0 -134.14, TS 0.45, ns 2.00\n",
      " H1 -134.41, H0 -134.14, TS 0.52, ns 2.10\n",
      " H1 -134.44, H0 -134.14, TS 0.60, ns 2.20\n",
      " H1 -134.48, H0 -134.14, TS 0.68, ns 2.30\n",
      " H1 -134.52, H0 -134.14, TS 0.76, ns 2.40\n",
      " H1 -134.56, H0 -134.14, TS 0.84, ns 2.50\n",
      " H1 -134.61, H0 -134.14, TS 0.93, ns 2.60\n",
      " H1 -134.65, H0 -134.14, TS 1.02, ns 2.70\n",
      " H1 -134.70, H0 -134.14, TS 1.11, ns 2.80\n",
      " H1 -134.74, H0 -134.14, TS 1.20, ns 2.90\n",
      " H1 -134.79, H0 -134.14, TS 1.30, ns 3.00\n",
      " H1 -134.84, H0 -134.14, TS 1.39, ns 3.10\n",
      " H1 -134.89, H0 -134.14, TS 1.49, ns 3.20\n",
      " H1 -134.94, H0 -134.14, TS 1.59, ns 3.30\n",
      " H1 -134.99, H0 -134.14, TS 1.70, ns 3.40\n",
      " H1 -135.05, H0 -134.14, TS 1.80, ns 3.50\n",
      " H1 -135.10, H0 -134.14, TS 1.91, ns 3.60\n",
      " H1 -135.15, H0 -134.14, TS 2.02, ns 3.70\n",
      " H1 -135.21, H0 -134.14, TS 2.13, ns 3.80\n",
      " H1 -135.26, H0 -134.14, TS 2.24, ns 3.90\n",
      " H1 -135.32, H0 -134.14, TS 2.35, ns 4.00\n",
      " H1 -135.38, H0 -134.14, TS 2.47, ns 4.10\n",
      " H1 -135.44, H0 -134.14, TS 2.59, ns 4.20\n",
      " H1 -135.50, H0 -134.14, TS 2.71, ns 4.30\n",
      " H1 -135.56, H0 -134.14, TS 2.83, ns 4.40\n",
      " H1 -135.62, H0 -134.14, TS 2.95, ns 4.50\n",
      " H1 -135.68, H0 -134.14, TS 3.07, ns 4.60\n",
      " H1 -135.74, H0 -134.14, TS 3.19, ns 4.70\n",
      " H1 -135.80, H0 -134.14, TS 3.32, ns 4.80\n",
      " H1 -135.87, H0 -134.14, TS 3.45, ns 4.90\n",
      "Most Likely answer: TS -0.14, ns 0.60\n"
     ]
    }
   ],
   "source": [
    "#mysource = catalog[36] # NON-ZERO\n",
    "mysource = catalog[36]\n",
    "print mysource\n",
    "\n",
    "ns_best = 0\n",
    "ts_best = 1e6\n",
    "\n",
    "N = len(HESEEvents)\n",
    "for ns in np.arange(0, 5, 0.1):\n",
    "    \n",
    "    H1 = H(mysource, ns)\n",
    "    H0 = H(mysource, 0)\n",
    "    TS = -2 * ( H1 - H0 )\n",
    "    print \" H1 %.2f, H0 %.2f, TS %.2f, ns %.2f\" % (H1, H0, TS, ns)\n",
    "    \n",
    "    if (TS < ts_best):\n",
    "        ts_best = TS\n",
    "        ns_best = ns\n",
    "print \"Most Likely answer: TS %.2f, ns %.2f\" % (ts_best, ns_best)\n"
   ]
  },
  {
   "cell_type": "code",
   "execution_count": null,
   "metadata": {
    "collapsed": true,
    "deletable": true,
    "editable": true
   },
   "outputs": [],
   "source": []
  }
 ],
 "metadata": {
  "kernelspec": {
   "display_name": "Python 2",
   "language": "python",
   "name": "python2"
  },
  "language_info": {
   "codemirror_mode": {
    "name": "ipython",
    "version": 2
   },
   "file_extension": ".py",
   "mimetype": "text/x-python",
   "name": "python",
   "nbconvert_exporter": "python",
   "pygments_lexer": "ipython2",
   "version": "2.7.10"
  }
 },
 "nbformat": 4,
 "nbformat_minor": 0
}
