{
 "cells": [
  {
   "cell_type": "code",
   "execution_count": 4,
   "metadata": {},
   "outputs": [],
   "source": [
    "# To run this example you'll need to install matplotlib.\n",
    "# The easiest way to install is by opening a terminal\n",
    "# and running `pip install --user matplotlib`.\n",
    "#\n",
    "# NOTE:\n",
    "#   If your terminal doesn't recognize pip you might need to install it.\n",
    "#   Search google for the pip (python package index) page to download get-pip.py\n",
    "#   and follow the instructions for installing pip. If that doesn't work feel free to use pencil and paper.\n",
    "\n",
    "import matplotlib as mpl\n",
    "mpl.use(\"Agg\")\n",
    "import matplotlib.pyplot as plt"
   ]
  },
  {
   "cell_type": "code",
   "execution_count": 7,
   "metadata": {},
   "outputs": [],
   "source": [
    "# make sure you move plotting.ipynb into the likelihood-example directory so you\n",
    "# can easily access data/eventsummary_4years.txt\n",
    "\n",
    "import numpy as np\n",
    "\n",
    "def loadEvents(filename):\n",
    "    ID,E,EerrMin,EerrMax,DEC,RA,Anger = np.loadtxt(filename,comments='#',usecols=(0,1,2,3,5,6,7), unpack =True)\n",
    "    #for i in range(len(ID)):\n",
    "    #    print ID[i], DEC[i]\n",
    "    topo = np.loadtxt(filename,comments='#',usecols=[8], unpack =True, dtype = 'str')\n",
    "    \n",
    "    array = np.recarray(len(E), [('topology', topo.dtype),\n",
    "                                 ('energy', float),\n",
    "                                 ('energy_error', float),\n",
    "                                 ('RA', float),\n",
    "                                 ('DEC', float),\n",
    "                                 ('ID', int),\n",
    "                                 ('angular_error', float)])\n",
    "    array.ID[:] = ID\n",
    "    array.topology[:] = topo\n",
    "    array.energy[:], array.energy_error[:] = E, np.array([EerrMin, EerrMax]).max(axis=0)\n",
    "    array.RA[:], array.DEC[:], array.angular_error[:] = np.radians(RA), np.radians(DEC), np.radians(Anger)\n",
    "    \n",
    "    return array\n",
    "\n",
    "HESEevents = loadEvents(\"data/eventsummary_4years.txt\")\n",
    "\n",
    "# convert neutrino event location to degrees for plotting later (it's easier to visualize in degrees)\n",
    "HESEevents.RA  = np.degrees( HESEevents.RA )\n",
    "HESEevents.DEC = np.degrees( HESEevents.DEC )\n",
    "HESEevents.angular_error = np.degrees( HESEevents.angular_error )"
   ]
  },
  {
   "cell_type": "code",
   "execution_count": 14,
   "metadata": {},
   "outputs": [
    {
     "name": "stdout",
     "output_type": "stream",
     "text": [
      "[('Track',  200.5,  16.4,  93.3,  14., 38,  1.2)]\n"
     ]
    }
   ],
   "source": [
    "# plot events near HAWC source 2HWC J0631+169 (Geminga)\n",
    "hawc_catalog = {'2HWC J1837-065': {'DEC': -0.11484266478122689, 'RA': 4.875751798371359}, '2HWC J1953+294': {'DEC': 0.5145230634879283, 'RA': 5.205619026998287}, '2HWC J1928+177': {'DEC': 0.3103195410045918, 'RA': 5.098979409701434}, '2HWC J2006+341': {'DEC': 0.5965535383316618, 'RA': 5.263040359388901}, '2HWC J2024+417': {'DEC': 0.728849495632832, 'RA': 5.341405642803447}, '2HWC J1938+238': {'DEC': 0.4155628948998498, 'RA': 5.1441834373280875}, '2HWC J1831-098': {'DEC': -0.17278759594743864, 'RA': 4.849746392516644}, '2HWC J1812-126': {'DEC': -0.22060961745208327, 'RA': 4.768414049373708}, '2HWC J1902+048': {'DEC': 0.08482300164692443, 'RA': 4.98308954736901}, '2HWC J1922+140': {'DEC': 0.24591689160600103, 'RA': 5.073672135547516}, '2HWC J1907+084': {'DEC': 0.14835298641951802, 'RA': 5.005429761794538}, '2HWC J1040+308': {'DEC': 0.5387831400906495, 'RA': 2.796366527545315}, '2HWC J1653+397': {'DEC': 0.6944665093685437, 'RA': 4.424060587955227}, '2HWC J2031+415': {'DEC': 0.7244861725028462, 'RA': 5.374392365666139}, '2HWC J0534+220': {'DEC': 0.3843215012891514, 'RA': 1.4596188534428578}, '2HWC J0700+143': {'DEC': 0.24993114888558798, 'RA': 1.8346901096964392}, '2HWC J1914+117': {'DEC': 0.20455258833373544, 'RA': 5.038416484657231}, '2HWC J1852+013': {'DEC': 0.024085543677521744, 'RA': 4.939456316069152}, '2HWC J1955+285': {'DEC': 0.4989896331451788, 'RA': 5.215567403734655}, '2HWC J0819+157': {'DEC': 0.27558748888990464, 'RA': 2.1813124991425132}, '2HWC J1809-190': {'DEC': -0.3323106895797203, 'RA': 4.75532407998375}, '2HWC J1912+099': {'DEC': 0.1733111947230369, 'RA': 5.0284681079208635}, '2HWC J1844-032': {'DEC': -0.05672320068981571, 'RA': 4.905596928580462}, '2HWC J1819-150': {'DEC': -0.26284658535034605, 'RA': 4.796688383256016}, '2HWC J0631+169': {'DEC': 0.29670597283903605, 'RA': 1.710422666954443}, '2HWC J1829+070': {'DEC': 0.12269664641520137, 'RA': 4.8404961474810735}, '2HWC J1814-173': {'DEC': -0.3021164935202184, 'RA': 4.77382457005489}, '2HWC J1309-054': {'DEC': -0.0958185759344887, 'RA': 3.443709147110012}, '2HWC J1849+001': {'DEC': 0.0019198621771937625, 'RA': 4.928635274706787}, '2HWC J1104+381': {'DEC': 0.6660176425610361, 'RA': 2.899166420487781}, '2HWC J0635+180': {'DEC': 0.3150319299849765, 'RA': 1.7249088997459958}, '2HWC J1857+027': {'DEC': 0.048869219055841226, 'RA': 4.962494662195477}, '2HWC J1825-134': {'DEC': -0.23387411976724015, 'RA': 4.8251372500635235}, '2HWC J1949+244': {'DEC': 0.42690753503781304, 'RA': 5.190958261281535}, '2HWC J1908+063': {'DEC': 0.11152653920243766, 'RA': 5.009967617849723}, '2HWC J1930+188': {'DEC': 0.3288200310757317, 'RA': 5.107356990111007}, '2HWC J1921+131': {'DEC': 0.22916173078685548, 'RA': 5.066690818539539}, '2HWC J2020+403': {'DEC': 0.7045894190301107, 'RA': 5.326046745385897}, '2HWC J2019+367': {'DEC': 0.6422811647339133, 'RA': 5.322207021031509}, '2HWC J1847-018': {'DEC': -0.031939525311496235, 'RA': 4.920955825998012}}\n",
    "\n",
    "for source in hawc_catalog:\n",
    "    src_ra  = source['RA'] # source right ascension in degrees\n",
    "    src_dec = source['DEC'] # source declination in degrees\n",
    "\n",
    "    # make a scatter plot of the events\n",
    "    plt.scatter(x=HESEevents.RA, y=HESEevents.DEC,\n",
    "                s=10*HESEevents.angular_error, # s is the marker size, I set it to scale with angular error\n",
    "                marker='o',color='r')\n",
    "\n",
    "\n",
    "    # zoom to region centered on source\n",
    "    dx = 10\n",
    "    plt.xlim(src_ra - dx, src_ra + dx)\n",
    "\n",
    "    dy = dx # setting dy = dx just draws a square\n",
    "    plt.ylim(src_dec - dy, src_dec + dy)\n",
    "\n",
    "    # print list of nearby events\n",
    "    mask = ((HESEevents.RA  > src_ra  - dx) & (HESEevents.RA  < src_ra  + dx)) & \\\n",
    "           ((HESEevents.DEC > src_dec - dy) & (HESEevents.DEC < src_dec + dy)) \n",
    "    print(HESEevents[mask])\n",
    "\n",
    "    # this will create a picture inside the likelihood-example folder\n",
    "    # called event_locations.png. Open it and take a look. \n",
    "    plt.savefig(\"event_locations_\",source,\".png\")\n",
    "    plt.clf() # clear figure for making more plots later"
   ]
  },
  {
   "cell_type": "code",
   "execution_count": 12,
   "metadata": {},
   "outputs": [],
   "source": [
    "# values of TS for different assumed numbers of signal events (ns)\n",
    "ns = [1, 2, 3, 4, 5]\n",
    "TS = [1.87, 3.78, 5.73, 7.72, 9.74]\n",
    "\n",
    "plt.scatter(x=ns, y=TS, marker='o')\n",
    "plt.xlabel(\"Number of signal events (ns)\")\n",
    "plt.ylabel(\"Test Statistic (TS)\")\n",
    "\n",
    "# some limits that work with these values of ns, TS\n",
    "# you'll probably need to change these to look at other sources\n",
    "plt.xlim(0,5)\n",
    "plt.ylim(0,10)\n",
    "\n",
    "plt.savefig(\"ts_versus_ns.png\")\n",
    "plt.clf() # clear figure for making more plots later"
   ]
  },
  {
   "cell_type": "code",
   "execution_count": null,
   "metadata": {},
   "outputs": [],
   "source": []
  },
  {
   "cell_type": "code",
   "execution_count": null,
   "metadata": {},
   "outputs": [],
   "source": []
  }
 ],
 "metadata": {
  "kernelspec": {
   "display_name": "Python 3",
   "language": "python",
   "name": "python3"
  },
  "language_info": {
   "codemirror_mode": {
    "name": "ipython",
    "version": 3
   },
   "file_extension": ".py",
   "mimetype": "text/x-python",
   "name": "python",
   "nbconvert_exporter": "python",
   "pygments_lexer": "ipython3",
   "version": "3.6.3"
  }
 },
 "nbformat": 4,
 "nbformat_minor": 2
}
