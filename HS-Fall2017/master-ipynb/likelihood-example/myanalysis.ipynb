{
 "cells": [
  {
   "cell_type": "code",
   "execution_count": 14,
   "metadata": {
    "collapsed": true
   },
   "outputs": [],
   "source": [
    "# Step 0 - have some fun"
   ]
  },
  {
   "cell_type": "code",
   "execution_count": 15,
   "metadata": {
    "collapsed": true
   },
   "outputs": [],
   "source": [
    "def windows_say(words):\n",
    "\n",
    "    cmd1 = 'Add-Type -AssemblyName System.speech;'\n",
    "    cmd2 = '$speak = New-Object System.Speech.Synthesis.SpeechSynthesizer;'\n",
    "    cmd3 = '$speak.Speak(\"%s\")' % words\n",
    "        \n",
    "    import subprocess\n",
    "    subprocess.call(['powershell.exe', cmd1, cmd2, cmd3])"
   ]
  },
  {
   "cell_type": "code",
   "execution_count": 16,
   "metadata": {
    "collapsed": true
   },
   "outputs": [],
   "source": [
    "def macos_say(words, voice = \"z\"):\n",
    "    \n",
    "    import os\n",
    "    os.system('say -v %s \"%s\"' % (voice, words))"
   ]
  },
  {
   "cell_type": "code",
   "execution_count": 17,
   "metadata": {},
   "outputs": [
    {
     "ename": "FileNotFoundError",
     "evalue": "[Errno 2] No such file or directory: 'powershell.exe': 'powershell.exe'",
     "output_type": "error",
     "traceback": [
      "\u001b[0;31m---------------------------------------------------------------------------\u001b[0m",
      "\u001b[0;31mFileNotFoundError\u001b[0m                         Traceback (most recent call last)",
      "\u001b[0;32m<ipython-input-17-40d5be1f6e2a>\u001b[0m in \u001b[0;36m<module>\u001b[0;34m()\u001b[0m\n\u001b[0;32m----> 1\u001b[0;31m \u001b[0mwindows_say\u001b[0m\u001b[0;34m(\u001b[0m\u001b[0;34m\"Did you know computers can talk?\"\u001b[0m\u001b[0;34m)\u001b[0m \u001b[0;31m# this will only work in Windows 10\u001b[0m\u001b[0;34m\u001b[0m\u001b[0m\n\u001b[0m",
      "\u001b[0;32m<ipython-input-15-c97ce639a019>\u001b[0m in \u001b[0;36mwindows_say\u001b[0;34m(words)\u001b[0m\n\u001b[1;32m      6\u001b[0m \u001b[0;34m\u001b[0m\u001b[0m\n\u001b[1;32m      7\u001b[0m     \u001b[0;32mimport\u001b[0m \u001b[0msubprocess\u001b[0m\u001b[0;34m\u001b[0m\u001b[0m\n\u001b[0;32m----> 8\u001b[0;31m     \u001b[0msubprocess\u001b[0m\u001b[0;34m.\u001b[0m\u001b[0mcall\u001b[0m\u001b[0;34m(\u001b[0m\u001b[0;34m[\u001b[0m\u001b[0;34m'powershell.exe'\u001b[0m\u001b[0;34m,\u001b[0m \u001b[0mcmd1\u001b[0m\u001b[0;34m,\u001b[0m \u001b[0mcmd2\u001b[0m\u001b[0;34m,\u001b[0m \u001b[0mcmd3\u001b[0m\u001b[0;34m]\u001b[0m\u001b[0;34m)\u001b[0m\u001b[0;34m\u001b[0m\u001b[0m\n\u001b[0m",
      "\u001b[0;32m/anaconda3/lib/python3.6/subprocess.py\u001b[0m in \u001b[0;36mcall\u001b[0;34m(timeout, *popenargs, **kwargs)\u001b[0m\n\u001b[1;32m    265\u001b[0m     \u001b[0mretcode\u001b[0m \u001b[0;34m=\u001b[0m \u001b[0mcall\u001b[0m\u001b[0;34m(\u001b[0m\u001b[0;34m[\u001b[0m\u001b[0;34m\"ls\"\u001b[0m\u001b[0;34m,\u001b[0m \u001b[0;34m\"-l\"\u001b[0m\u001b[0;34m]\u001b[0m\u001b[0;34m)\u001b[0m\u001b[0;34m\u001b[0m\u001b[0m\n\u001b[1;32m    266\u001b[0m     \"\"\"\n\u001b[0;32m--> 267\u001b[0;31m     \u001b[0;32mwith\u001b[0m \u001b[0mPopen\u001b[0m\u001b[0;34m(\u001b[0m\u001b[0;34m*\u001b[0m\u001b[0mpopenargs\u001b[0m\u001b[0;34m,\u001b[0m \u001b[0;34m**\u001b[0m\u001b[0mkwargs\u001b[0m\u001b[0;34m)\u001b[0m \u001b[0;32mas\u001b[0m \u001b[0mp\u001b[0m\u001b[0;34m:\u001b[0m\u001b[0;34m\u001b[0m\u001b[0m\n\u001b[0m\u001b[1;32m    268\u001b[0m         \u001b[0;32mtry\u001b[0m\u001b[0;34m:\u001b[0m\u001b[0;34m\u001b[0m\u001b[0m\n\u001b[1;32m    269\u001b[0m             \u001b[0;32mreturn\u001b[0m \u001b[0mp\u001b[0m\u001b[0;34m.\u001b[0m\u001b[0mwait\u001b[0m\u001b[0;34m(\u001b[0m\u001b[0mtimeout\u001b[0m\u001b[0;34m=\u001b[0m\u001b[0mtimeout\u001b[0m\u001b[0;34m)\u001b[0m\u001b[0;34m\u001b[0m\u001b[0m\n",
      "\u001b[0;32m/anaconda3/lib/python3.6/subprocess.py\u001b[0m in \u001b[0;36m__init__\u001b[0;34m(self, args, bufsize, executable, stdin, stdout, stderr, preexec_fn, close_fds, shell, cwd, env, universal_newlines, startupinfo, creationflags, restore_signals, start_new_session, pass_fds, encoding, errors)\u001b[0m\n\u001b[1;32m    707\u001b[0m                                 \u001b[0mc2pread\u001b[0m\u001b[0;34m,\u001b[0m \u001b[0mc2pwrite\u001b[0m\u001b[0;34m,\u001b[0m\u001b[0;34m\u001b[0m\u001b[0m\n\u001b[1;32m    708\u001b[0m                                 \u001b[0merrread\u001b[0m\u001b[0;34m,\u001b[0m \u001b[0merrwrite\u001b[0m\u001b[0;34m,\u001b[0m\u001b[0;34m\u001b[0m\u001b[0m\n\u001b[0;32m--> 709\u001b[0;31m                                 restore_signals, start_new_session)\n\u001b[0m\u001b[1;32m    710\u001b[0m         \u001b[0;32mexcept\u001b[0m\u001b[0;34m:\u001b[0m\u001b[0;34m\u001b[0m\u001b[0m\n\u001b[1;32m    711\u001b[0m             \u001b[0;31m# Cleanup if the child failed starting.\u001b[0m\u001b[0;34m\u001b[0m\u001b[0;34m\u001b[0m\u001b[0m\n",
      "\u001b[0;32m/anaconda3/lib/python3.6/subprocess.py\u001b[0m in \u001b[0;36m_execute_child\u001b[0;34m(self, args, executable, preexec_fn, close_fds, pass_fds, cwd, env, startupinfo, creationflags, shell, p2cread, p2cwrite, c2pread, c2pwrite, errread, errwrite, restore_signals, start_new_session)\u001b[0m\n\u001b[1;32m   1342\u001b[0m                         \u001b[0;32mif\u001b[0m \u001b[0merrno_num\u001b[0m \u001b[0;34m==\u001b[0m \u001b[0merrno\u001b[0m\u001b[0;34m.\u001b[0m\u001b[0mENOENT\u001b[0m\u001b[0;34m:\u001b[0m\u001b[0;34m\u001b[0m\u001b[0m\n\u001b[1;32m   1343\u001b[0m                             \u001b[0merr_msg\u001b[0m \u001b[0;34m+=\u001b[0m \u001b[0;34m': '\u001b[0m \u001b[0;34m+\u001b[0m \u001b[0mrepr\u001b[0m\u001b[0;34m(\u001b[0m\u001b[0merr_filename\u001b[0m\u001b[0;34m)\u001b[0m\u001b[0;34m\u001b[0m\u001b[0m\n\u001b[0;32m-> 1344\u001b[0;31m                     \u001b[0;32mraise\u001b[0m \u001b[0mchild_exception_type\u001b[0m\u001b[0;34m(\u001b[0m\u001b[0merrno_num\u001b[0m\u001b[0;34m,\u001b[0m \u001b[0merr_msg\u001b[0m\u001b[0;34m,\u001b[0m \u001b[0merr_filename\u001b[0m\u001b[0;34m)\u001b[0m\u001b[0;34m\u001b[0m\u001b[0m\n\u001b[0m\u001b[1;32m   1345\u001b[0m                 \u001b[0;32mraise\u001b[0m \u001b[0mchild_exception_type\u001b[0m\u001b[0;34m(\u001b[0m\u001b[0merr_msg\u001b[0m\u001b[0;34m)\u001b[0m\u001b[0;34m\u001b[0m\u001b[0m\n\u001b[1;32m   1346\u001b[0m \u001b[0;34m\u001b[0m\u001b[0m\n",
      "\u001b[0;31mFileNotFoundError\u001b[0m: [Errno 2] No such file or directory: 'powershell.exe': 'powershell.exe'"
     ]
    }
   ],
   "source": [
    "windows_say(\"Did you know computers can talk?\") # this will only work in Windows 10"
   ]
  },
  {
   "cell_type": "code",
   "execution_count": null,
   "metadata": {},
   "outputs": [],
   "source": [
    "macos_say(\"Would you like to hear my song?\")  # unfortunately, this will only work on a mac\n",
    "while True:\n",
    "    answer = raw_input(\"enter yes or no: \")\n",
    "    if answer == \"yes\":\n",
    "        macos_say(\"playing binary solo number 1\")\n",
    "        macos_say(\"0000 1111 0000\", voice = \"good news\")\n",
    "        while True:\n",
    "            macos_say(\"Did you like my song?\")\n",
    "            answer = raw_input(\"enter yes or no: \")\n",
    "            if answer == \"yes\":\n",
    "                macos_say(\"oh, you are the best. thank you\")\n",
    "                break\n",
    "            elif answer == \"no\":\n",
    "                macos_say(\"I'm sorry that answer cannot possibly be correct. Please try again.\")\n",
    "            else:\n",
    "                macos_say(\"I'm sorry. I did not understand your answer. Try again.\")\n",
    "        break\n",
    "    elif answer == \"no\":\n",
    "        macos_say(\"You are no fun.\")\n",
    "    else:\n",
    "        macos_say(\"I'm sorry. I did not understand your answer. Try again.\")"
   ]
  },
  {
   "cell_type": "code",
   "execution_count": 18,
   "metadata": {},
   "outputs": [
    {
     "name": "stdout",
     "output_type": "stream",
     "text": [
      "{'2HWC J0534+220': [1.459618, 0.3843215], '2HWC J0631+169': [1.71042, 0.296706], '2HWC J0635+180': [1.7249089, 0.31503193], '2HWC J0700+143': [1.83469011, 0.24993115], '2HWC J0819+157': [2.1813125, 0.27558749], '2HWC J1040+308': [2.79636653, 0.53878314], '2HWC J1104+381': [2.89916642, 0.66601764], '2HWC J1309-054': [3.44370915, -0.09581858], '2HWC J1653+397': [4.42406059, 0.69446651], '2HWC J1809-190': [4.75532408, -0.33231069], '2HWC J1812-126': [4.76841405, -0.22060962], '2HWC J1814-173': [4.77382457, -0.30211649], '2HWC J1819-150*': [4.79668838, -0.26284659], '2HWC J1825-134': [4.82513725, -0.2338741], '2HWC J1829+070': [4.84049615, 0.1226966], '2HWC J1831-098': [4.84974639, -0.172788], '2HWC J1837-065': [4.8757518, -0.1148427], '2HWC J1844-032': [4.90559693, -0.0567232], '2HWC J1847-018': [4.92095583, -0.03193953], '2HWC J1849+001': [4.92863527, 0.00191986], '2HWC J1852+013*': [4.93945632, 0.02408554], '2HWC J1857+027': [4.96249466, 0.0488692], '2HWC J1902+048*': [4.98308955, 0.084823], '2HWC J1907+084*': [5.00542976, 0.148353], '2HWC J1908+063': [5.00996762, 0.1115265], '2HWC J1912+099': [5.02846811, 0.1733112], '2HWC J1914+117*': [5.03841648, 0.20455259], '2HWC J1921+131': [3.3213616, 0.22916173], '2HWC J1922+140': [5.0736721, 0.24591689], '2HWC J1928+177': [5.09897941, 0.31031954], '2HWC J1930+188': [5.10735699, 0.32882003], '2HWC J1938+238': [5.14418344, 0.41556289], '2HWC J1949+244': [5.19095826, 0.42690754], '2HWC J1953+294': [5.20561903, 0.51452306], '2HWC J1955+285': [5.2155674, 0.49898963], '2HWC J2006+341': [5.26304036, 0.59655354], '2HWC J2019+367': [5.32220702, 0.6422812], '2HWC J2020+403': [5.32604675, 0.70458942], '2HWC J2024+417*': [5.34140564, 0.7288495], '2HWC J2031+415,': [5.37439237, 0.72448617]}\n"
     ]
    }
   ],
   "source": [
    "# step 1 - load HAWC catalog into something like a python dictionary\n",
    "# where you can retrieve the coordinates (right ascension - RA, declination - Dec)\n",
    "# based on a source name\n",
    "import math\n",
    "sources = {\"2HWC J0534+220\":[1.459618,0.3843215],\n",
    "              \"2HWC J0631+169\":[1.71042,0.296706],\n",
    "              \"2HWC J0635+180\":[1.7249089,0.31503193],\n",
    "              \"2HWC J0700+143\":[1.83469011,0.24993115],\n",
    "              \"2HWC J0819+157\":[2.1813125,0.27558749], \n",
    "              \"2HWC J1040+308\":[2.79636653,0.53878314], \n",
    "              \"2HWC J1104+381\":[2.89916642,0.66601764], \n",
    "              \"2HWC J1309-054\":[3.44370915,-0.09581858],\n",
    "              \"2HWC J1653+397\":[4.42406059,0.69446651],\n",
    "              \"2HWC J1809-190\":[4.75532408,-0.33231069], \n",
    "              \"2HWC J1812-126\":[4.76841405,-0.22060962],\n",
    "              \"2HWC J1814-173\":[4.77382457,-0.30211649],\n",
    "              \"2HWC J1819-150*\":[4.79668838,-0.26284659],\n",
    "              \"2HWC J1825-134\":[4.82513725,-0.2338741],\n",
    "              \"2HWC J1829+070\":[4.84049615,0.1226966],\n",
    "              \"2HWC J1831-098\":[4.84974639,-0.172788],\n",
    "              \"2HWC J1837-065\":[4.8757518,-0.1148427],\n",
    "              \"2HWC J1844-032\":[4.90559693,-0.0567232],\n",
    "              \"2HWC J1847-018\":[4.92095583,-0.03193953],\n",
    "              \"2HWC J1849+001\":[4.92863527,0.00191986],\n",
    "              \"2HWC J1852+013*\":[4.93945632,0.02408554],\n",
    "              \"2HWC J1857+027\":[4.96249466,0.0488692],\n",
    "              \"2HWC J1902+048*\":[4.98308955,0.084823],\n",
    "              \"2HWC J1907+084*\":[5.00542976,0.148353],\n",
    "              \"2HWC J1908+063\":[5.00996762,0.1115265],\n",
    "              \"2HWC J1912+099\":[5.02846811,0.1733112],\n",
    "              \"2HWC J1914+117*\":[5.03841648,0.20455259],\n",
    "              \"2HWC J1921+131\":[3.3213616,0.22916173],\n",
    "              \"2HWC J1922+140\":[5.0736721,0.24591689],\n",
    "              \"2HWC J1928+177\":[5.09897941,0.31031954],\n",
    "              \"2HWC J1930+188\":[5.10735699,0.32882003],\n",
    "              \"2HWC J1938+238\":[5.14418344,0.41556289],\n",
    "              \"2HWC J1949+244\":[5.19095826,0.42690754],\n",
    "              \"2HWC J1953+294\":[5.20561903,0.51452306],\n",
    "              \"2HWC J1955+285\":[5.2155674,0.49898963],\n",
    "              \"2HWC J2006+341\":[5.26304036,0.59655354],\n",
    "              \"2HWC J2019+367\":[5.32220702,0.6422812],\n",
    "              \"2HWC J2020+403\":[5.32604675,0.70458942],\n",
    "              \"2HWC J2024+417*\":[5.34140564,0.7288495],\n",
    "              \"2HWC J2031+415,\":[5.37439237,0.72448617],\n",
    "             }\n",
    "print(sources)"
   ]
  },
  {
   "cell_type": "code",
   "execution_count": 22,
   "metadata": {},
   "outputs": [
    {
     "name": "stdout",
     "output_type": "stream",
     "text": [
      "#ID Deposited Energy TeV  Time MJD     Declination deg.  RA deg.  Med. Ang. Resolution deg.  Topology\n",
      "\n",
      "  1   47.6   -5.4   +6.5   55351.3222143   -1.8                35.2      16.3                         Shower\n",
      "\n",
      "{'ra': 0.6143558965866667, 'dec': -0.03141592653, 'ang_error': 0.28448866802166667}\n",
      "  2  117.0  -14.6  +15.4   55351.4659661  -28.0               282.6      25.4                         Shower\n",
      "\n",
      "{'ra': 4.93230046521, 'dec': -0.4886921904666667, 'ang_error': 0.4433136299233333}\n",
      "  3   78.7   -8.7  +10.8   55451.0707482  -31.2               127.9       1.4                         Track\n",
      "\n",
      "{'ra': 2.232276112881667, 'dec': -0.54454272652, 'ang_error': 0.02443460952333333}\n",
      "  4  165.4  -14.9  +19.8   55477.3930984  -51.2               169.5       7.1                         Shower\n",
      "\n",
      "{'ra': 2.958333081575, 'dec': -0.8936085768533334, 'ang_error': 0.12391837686833333}\n",
      "  5   71.4   -9.0   +9.0   55512.5516311   -0.4               110.6       1.2                         Track\n",
      "\n",
      "{'ra': 1.9303341523433333, 'dec': -0.006981317006666667, 'ang_error': 0.02094395102}\n",
      "  6   28.4   -2.5   +2.7   55567.6388127  -27.2               133.9       9.8                         Shower\n",
      "\n",
      "{'ra': 2.336995867981667, 'dec': -0.4747295564533333, 'ang_error': 0.17104226666333333}\n",
      "  7   34.3   -4.3   +3.5   55571.2585362  -45.1                15.6      24.1                         Shower\n",
      "\n",
      "{'ra': 0.27227136326, 'dec': -0.7871434925016667, 'ang_error': 0.4206243496516667}\n",
      "  8   32.6  -11.1  +10.3   55608.8201315  -21.2               182.4       1.3                         Track\n",
      "\n",
      "{'ra': 3.18348055504, 'dec': -0.37000980135333333, 'ang_error': 0.022689280271666667}\n",
      "  9   63.2   -8.0   +7.1   55685.6629713   33.6               151.3      16.5                         Shower\n",
      "\n",
      "{'ra': 2.640683157771667, 'dec': 0.5864306285600001, 'ang_error': 0.287979326525}\n",
      " 10   97.2  -12.4  +10.4   55695.2730461  -29.4                 5.0       8.1                         Shower\n",
      "\n",
      "{'ra': 0.08726646258333333, 'dec': -0.51312679999, 'ang_error': 0.14137166938499998}\n",
      " 11   88.4  -10.7  +12.5   55714.5909345   -8.9               155.3      16.7                         Shower\n",
      "\n",
      "{'ra': 2.7104963278383334, 'dec': -0.15533430339833335, 'ang_error': 0.2914699850283333}\n",
      " 12  104.1  -13.2  +12.5   55739.4411232  -52.8               296.1       9.8                         Shower\n",
      "\n",
      "{'ra': 5.167919914185, 'dec': -0.9215338448799999, 'ang_error': 0.17104226666333333}\n",
      " 13  252.7  -21.6  +25.9   55756.1129844   40.3                67.9       1.2                         Track\n",
      "\n",
      "{'ra': 1.1850785618816668, 'dec': 0.7033676884216666, 'ang_error': 0.02094395102}\n",
      " 14 1040.7 -144.4 +131.6   55782.5161911  -27.9               265.6      13.2                         Shower\n",
      "\n",
      "{'ra': 4.635594492426667, 'dec': -0.48694686121499997, 'ang_error': 0.23038346121999997}\n",
      " 15   57.5   -7.8   +8.3   55783.1854223  -49.7               287.3      19.7                         Shower\n",
      "\n",
      "{'ra': 5.014330940038334, 'dec': -0.8674286380783334, 'ang_error': 0.3438298625783333}\n",
      " 16   30.6   -3.5   +3.6   55798.6271285  -22.6               192.1      19.4                         Shower\n",
      "\n",
      "{'ra': 3.3527774924516667, 'dec': -0.3944444108766667, 'ang_error': 0.3385938748233333}\n",
      " 17  199.7  -26.8  +27.2   55800.3755483   14.5               247.4      11.6                         Shower\n",
      "\n",
      "{'ra': 4.317944568623333, 'dec': 0.25307274149166664, 'ang_error': 0.20245819319333333}\n",
      " 18   31.5   -3.3   +4.6   55923.5318204  -24.8               345.6       1.3                         Track\n",
      "\n",
      "{'ra': 6.031857893760001, 'dec': -0.43284165441333333, 'ang_error': 0.022689280271666667}\n",
      " 19   71.5   -7.2   +7.0   55925.7958619  -59.7                76.9       9.7                         Shower\n",
      "\n",
      "{'ra': 1.3421581945316667, 'dec': -1.041961563245, 'ang_error': 0.16929693741166665}\n",
      " 20 1140.8 -132.8 +142.8   55929.3986279  -67.2                38.3      10.7                         Shower\n",
      "\n",
      "{'ra': 0.6684611033883333, 'dec': -1.1728612571200001, 'ang_error': 0.18675022992833332}\n",
      " 21   30.2   -3.3   +3.5   55936.5416484  -24.0                 9.0      20.9                         Shower\n",
      "\n",
      "{'ra': 0.15707963265, 'dec': -0.4188790204, 'ang_error': 0.36477381359833333}\n",
      " 22  219.5  -24.4  +21.2   55941.9757813  -22.1               293.7      12.1                         Shower\n",
      "\n",
      "{'ra': 5.126032012145, 'dec': -0.38571776461833335, 'ang_error': 0.21118483945166666}\n",
      " 23   82.2   -8.4   +8.6   55949.5693228  -13.2               208.7       1.9                         Track\n",
      "\n",
      "{'ra': 3.642502148228333, 'dec': -0.23038346121999997, 'ang_error': 0.03316125578166666}\n",
      " 24   30.5   -2.6   +3.2   55950.8474912  -15.1               282.2      15.5                         Shower\n",
      "\n",
      "{'ra': 4.925319148203333, 'dec': -0.26354471700166665, 'ang_error': 0.2705260340083333}\n",
      " 25   33.5   -5.0   +4.9   55966.7422488  -14.5               286.0      46.3                         Shower\n",
      "\n",
      "{'ra': 4.991641659766667, 'dec': -0.25307274149166664, 'ang_error': 0.8080874435216666}\n",
      " 26  210.0  -25.8  +29.0   55979.2551750   22.7               143.4      11.8                         Shower\n",
      "\n",
      "{'ra': 2.50280214689, 'dec': 0.3961897401283333, 'ang_error': 0.20594885169666668}\n",
      " 27   60.2   -5.6   +5.6   56008.6845644  -12.6               121.7       6.6                         Shower\n",
      "\n",
      "{'ra': 2.1240656992783333, 'dec': -0.21991148571, 'ang_error': 0.11519173060999999}\n",
      " 28   46.1   -4.4   +5.7   56048.5704209  -71.5               164.8       1.3                         Track\n",
      "\n",
      "{'ra': 2.876302606746667, 'dec': -1.2479104149416667, 'ang_error': 0.022689280271666667}\n",
      " 29   32.7   -2.9   +3.2   56108.2572046   41.0               298.1       7.4                         Shower\n",
      "\n",
      "{'ra': 5.202826499218333, 'dec': 0.7155849931833334, 'ang_error': 0.12915436462333335}\n",
      " 30  128.7  -12.5  +13.8   56115.7283574  -82.7               103.2       8.0                         Shower\n",
      "\n",
      "{'ra': 1.80117978772, 'dec': -1.4433872911283334, 'ang_error': 0.13962634013333333}\n",
      " 31   42.5   -5.7   +5.4   56176.3914143   78.3               146.1      26.0                         Shower\n",
      "\n",
      "{'ra': 2.549926036685, 'dec': 1.366592804055, 'ang_error': 0.45378560543333335}\n",
      " 33  384.7  -48.6  +46.4   56221.3424023    7.8               292.5      13.5                         Shower\n",
      "\n",
      "{'ra': 5.105088061125, 'dec': 0.13613568163, 'ang_error': 0.235619448975}\n",
      " 34   42.1   -6.3   +6.5   56228.6055226   31.3               323.4      42.7                         Shower\n",
      "\n",
      "{'ra': 5.64439479989, 'dec': 0.5462880557716667, 'ang_error': 0.7452555904616667}\n",
      " 35 2003.7 -261.5 +236.2   56265.1338677  -55.8               208.4      15.9                         Shower\n",
      "\n",
      "{'ra': 3.6372661604733336, 'dec': -0.9738937224299999, 'ang_error': 0.277507351015}\n",
      " 36   28.9   -2.6   +3.0   56308.1642740   -3.0               257.7      11.7                         Shower\n",
      "\n",
      "{'ra': 4.4977134815449995, 'dec': -0.05235987755, 'ang_error': 0.20420352244499998}\n",
      " 37   30.8   -3.5   +3.3   56390.1887627   20.7               167.3       1.2                         Track\n",
      "\n",
      "{'ra': 2.9199358380383336, 'dec': 0.361283155095, 'ang_error': 0.02094395102}\n",
      " 38  200.5  -16.4  +16.4   56470.1103795   14.0                93.3       1.2                         Track\n",
      "\n",
      "{'ra': 1.628392191805, 'dec': 0.24434609523333334, 'ang_error': 0.02094395102}\n",
      " 39  101.3  -11.6  +13.3   56480.6617877  -17.9               106.2      14.2                         Shower\n",
      "\n",
      "{'ra': 1.85353966527, 'dec': -0.3124139360483333, 'ang_error': 0.24783675373666667}\n",
      " 40  157.3  -16.7  +15.9   56501.1641008  -48.5               143.9      11.7                         Shower\n",
      "\n",
      "{'ra': 2.5115287931483334, 'dec': -0.8464846870583334, 'ang_error': 0.20420352244499998}\n",
      " 41   87.6  -10.0   +8.4   56603.1116854    3.3                66.1      11.1                         Shower\n",
      "\n",
      "{'ra': 1.1536626353516666, 'dec': 0.057595865304999994, 'ang_error': 0.193731546935}\n",
      " 42   76.3  -11.6  +10.3   56613.2566890  -25.3                42.5      20.7                         Shower\n",
      "\n",
      "{'ra': 0.7417649319583334, 'dec': -0.4415683006716667, 'ang_error': 0.361283155095}\n",
      " 43   46.5   -4.5   +5.9   56628.5688531  -22.0               206.6       1.3                         Track\n",
      "\n",
      "{'ra': 3.6058502339433334, 'dec': -0.38397243536666664, 'ang_error': 0.022689280271666667}\n",
      " 44   84.6   -7.9   +7.4   56671.8778763    0.0               336.7       1.2                         Track\n",
      "\n",
      "{'ra': 5.876523590361667, 'dec': 0.0, 'ang_error': 0.02094395102}\n",
      " 45  429.9  -49.1  +57.4   56679.2044683  -86.3               219.0       1.2                         Track\n",
      "\n",
      "{'ra': 3.82227106115, 'dec': -1.5062191441883332, 'ang_error': 0.02094395102}\n",
      " 46  158.0  -16.6  +15.3   56688.0702948  -22.3               150.5       7.6                         Shower\n",
      "\n",
      "{'ra': 2.6267205237583333, 'dec': -0.3892084231216667, 'ang_error': 0.13264502312666665}\n",
      " 47   74.3   -7.2   +8.3   56704.6001074   67.4               209.4       1.2                         Track\n",
      "\n",
      "{'ra': 3.6547194529900002, 'dec': 1.1763519156233335, 'ang_error': 0.02094395102}\n",
      " 48  104.7  -10.2  +13.5   56705.9419933  -33.2               213.0       8.1                         Shower\n",
      "\n",
      "{'ra': 3.71755130605, 'dec': -0.5794493115533333, 'ang_error': 0.14137166938499998}\n",
      " 49   59.9   -7.9   +8.3   56722.4083554  -26.3               203.2      21.8                         Shower\n",
      "\n",
      "{'ra': 3.5465090393866663, 'dec': -0.45902159318833335, 'ang_error': 0.38048177686333334}\n",
      " 50   22.2   -2.0   +2.3   56737.2004652   59.3               168.6       8.2                         Shower\n",
      "\n",
      "{'ra': 2.94262511831, 'dec': 1.0349802462383333, 'ang_error': 0.14311699863666666}\n",
      " 51   66.2   -6.1   +6.7   56759.2159560   54.0                88.6       6.5                         Shower\n",
      "\n",
      "{'ra': 1.5463617169766666, 'dec': 0.9424777959, 'ang_error': 0.11344640135833334}\n",
      " 52  158.1  -18.4  +16.3   56763.5448147  -54.0               252.8       7.8                         Shower\n",
      "\n",
      "{'ra': 4.412192348213334, 'dec': -0.9424777959, 'ang_error': 0.13613568163}\n",
      " 53   27.6   -2.2   +2.6   56767.0663034  -37.7               239.0       1.2                         Track\n",
      "\n",
      "{'ra': 4.171336911483333, 'dec': -0.6579891278783334, 'ang_error': 0.02094395102}\n",
      " 54   54.5   -6.3   +5.1   56769.0295975    6.0               170.5      11.6                         Shower\n",
      "\n",
      "{'ra': 2.975786374091667, 'dec': 0.1047197551, 'ang_error': 0.20245819319333333}\n"
     ]
    }
   ],
   "source": [
    "# step 2 - load the neutrino events under data/eventsummary_4years.txt which each column as a separate field\n",
    "events = {}\n",
    "f = open(\"data/eventsummary_4years.txt\",'r')\n",
    "for line in f:\n",
    "    #print (line)\n",
    "    if \"#\" in line: continue\n",
    "    toRad = 3.141592653/180\n",
    "    eventID = int(line.split()[0])\n",
    "    dec = float(line.split()[5])*toRad\n",
    "    ra = float(line.split()[6])*toRad\n",
    "    ang_error = float(line.split()[7])*toRad\n",
    "        \n",
    "    events[eventID] = {\"ra\": ra, \"dec\": dec, \"ang_error\": ang_error}\n",
    "    print(events[eventID])"
   ]
  },
  {
   "cell_type": "code",
   "execution_count": 23,
   "metadata": {
    "scrolled": true
   },
   "outputs": [
    {
     "data": {
      "text/plain": [
       "2.6274918867164118e-06"
      ]
     },
     "execution_count": 23,
     "metadata": {},
     "output_type": "execute_result"
    }
   ],
   "source": [
    "# step 3 - calculate the angular probablitiy between one source and one neutrino event\n",
    "# using the event_angular_distribution function below\n",
    "\n",
    "import numpy as np\n",
    "\n",
    "def sph_dot(th1,th2,phi1,phi2):\n",
    "    return np.sin(th1)*np.sin(th2)*np.cos(phi1-phi2) + np.cos(th1)*np.cos(th2)\n",
    "\n",
    "# Implementation of the kent distribution\n",
    "def event_angular_distribution(event,source):\n",
    "    kappa = 1./(event[\"ang_error\"])**2\n",
    "    log_dist = np.log(kappa) - np.log(2*np.pi) - kappa + kappa*sph_dot(np.pi/2-event[\"dec\"], np.pi/2-source[0], event[\"ra\"], source[0])\n",
    "    return np.exp(log_dist)\n",
    "\n",
    "event_angular_distribution(events[1],sources[\"2HWC J0631+169\"])"
   ]
  },
  {
   "cell_type": "code",
   "execution_count": 28,
   "metadata": {},
   "outputs": [
    {
     "name": "stdout",
     "output_type": "stream",
     "text": [
      "[2.6274918867164118e-06, 0.00087469959655254873, 0.0, 1.3301923969156866e-50, 0.0, 4.8162683912011261e-23, 5.567057402202919e-05, 0.0, 0.0035755473083472935, 5.5649746411174425e-32, 9.9459608943555691e-07, 2.3369048304744491e-25, 0.0, 3.0610734742215931e-11, 1.016985247019776e-06, 8.8618268755742136e-06, 7.0739694959135694e-07, 0.0, 4.405626166205507e-29, 3.1613876228663982e-24, 3.104554090969026e-05, 2.4865934933035874e-12, 0.0, 4.650584196397383e-07, 0.04422532949235071, 2.1133400401438785e-07, 1.616703643952066e-43, 0.0, 2.6714032408206007e-06, 2.300897184024615e-44, 0.60876722485579982, 5.3729964381757856e-06, 0.1389434860382541, 1.6245701722042994e-10, 9.6498745715715524e-10, 0.0, 0.0, 1.8369939505548261e-10, 5.9416837322586571e-19, 2.2427537825296745e-12, 1.2990478445395611e-05, 0.0, 0.0, 0.0, 1.1569765842718434e-35, 9.0802400203126581e-64, 2.8694751691565991e-32, 6.6535907825963572e-05, 0.001741891417312978, 4.5564932605051413e-09, 2.8903335505769257e-40, 0.0, 4.4627283266803844e-10]\n"
     ]
    }
   ],
   "source": [
    "# step 4 - calculate angular probability between one source and all neutrino events as a list or array\n",
    "angular_probability = []\n",
    "\n",
    "f = open(\"data/eventsummary_4years.txt\",'r')\n",
    "ids = []\n",
    "for line in f:\n",
    "    if '#' in line: continue\n",
    "    ids.append(int(line.split()[0]))\n",
    "for ID in ids:\n",
    "    prob = event_angular_distribution(events[ID],sources[\"2HWC J0631+169\"])\n",
    "    angular_probability.append(prob)\n",
    "print(angular_probability)"
   ]
  },
  {
   "cell_type": "code",
   "execution_count": 29,
   "metadata": {},
   "outputs": [
    {
     "name": "stdout",
     "output_type": "stream",
     "text": [
      "0.798317356648\n"
     ]
    }
   ],
   "source": [
    "# step 5 - sum the angular probabilities of all events for one source\n",
    "def addition(array):\n",
    "    sum = 0\n",
    "    for number in array:\n",
    "        sum+=number\n",
    "    print(sum)\n",
    "addition(angular_probability)"
   ]
  }
 ],
 "metadata": {
  "kernelspec": {
   "display_name": "Python 3",
   "language": "python",
   "name": "python3"
  },
  "language_info": {
   "codemirror_mode": {
    "name": "ipython",
    "version": 3
   },
   "file_extension": ".py",
   "mimetype": "text/x-python",
   "name": "python",
   "nbconvert_exporter": "python",
   "pygments_lexer": "ipython3",
   "version": "3.6.3"
  }
 },
 "nbformat": 4,
 "nbformat_minor": 2
}
