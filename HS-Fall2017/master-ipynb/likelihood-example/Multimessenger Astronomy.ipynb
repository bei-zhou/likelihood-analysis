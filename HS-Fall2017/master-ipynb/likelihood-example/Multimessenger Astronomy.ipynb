{
 "cells": [
  {
   "cell_type": "code",
   "execution_count": 104,
   "metadata": {},
   "outputs": [
    {
     "name": "stdout",
     "output_type": "stream",
     "text": [
      "{'2HWC J0534+220': [1.459618, 0.3843215], '2HWC J0631+169': [1.71042, 0.296706], '2HWC J0635+180': [1.7249089, 0.31503193], '2HWC J0700+143': [1.83469011, 0.24993115], '2HWC J0819+157': [2.1813125, 0.27558749], '2HWC J1040+308': [2.79636653, 0.53878314], '2HWC J1104+381': [2.89916642, 0.66601764], '2HWC J1309-054': [3.44370915, -0.09581858], '2HWC J1653+397': [4.42406059, 0.69446651], '2HWC J1809-190': [4.75532408, -0.33231069], '2HWC J1812-126': [4.76841405, -0.22060962], '2HWC J1814-173': [4.77382457, -0.30211649], '2HWC J1819-150*': [4.79668838, -0.26284659], '2HWC J1825-134': [4.82513725, -0.2338741], '2HWC J1829+070': [4.84049615, 0.1226966], '2HWC J1831-098': [4.84974639, -0.172788], '2HWC J1837-065': [4.8757518, -0.1148427], '2HWC J1844-032': [4.90559693, -0.0567232], '2HWC J1847-018': [4.92095583, -0.03193953], '2HWC J1849+001': [4.92863527, 0.00191986], '2HWC J1852+013*': [4.93945632, 0.02408554], '2HWC J1857+027': [4.96249466, 0.0488692], '2HWC J1902+048*': [4.98308955, 0.084823], '2HWC J1907+084*': [5.00542976, 0.148353], '2HWC J1908+063': [5.00996762, 0.1115265], '2HWC J1912+099': [5.02846811, 0.1733112], '2HWC J1914+117*': [5.03841648, 0.20455259], '2HWC J1921+131': [3.3213616, 0.22916173], '2HWC J1922+140': [5.0736721, 0.24591689], '2HWC J1928+177': [5.09897941, 0.31031954], '2HWC J1930+188': [5.10735699, 0.32882003], '2HWC J1938+238': [5.14418344, 0.41556289], '2HWC J1949+244': [5.19095826, 0.42690754], '2HWC J1953+294': [5.20561903, 0.51452306], '2HWC J1955+285': [5.2155674, 0.49898963], '2HWC J2006+341': [5.26304036, 0.59655354], '2HWC J2019+367': [5.32220702, 0.6422812], '2HWC J2020+403': [5.32604675, 0.70458942], '2HWC J2024+417*': [5.34140564, 0.7288495], '2HWC J2031+415,': [5.37439237, 0.72448617]}\n"
     ]
    }
   ],
   "source": [
    "import math\n",
    "srcs = {\"2HWC J0534+220\":[1.459618,0.3843215],\n",
    "              \"2HWC J0631+169\":[1.71042,0.296706],\n",
    "              \"2HWC J0635+180\":[1.7249089,0.31503193],\n",
    "              \"2HWC J0700+143\":[1.83469011,0.24993115],\n",
    "              \"2HWC J0819+157\":[2.1813125,0.27558749], \n",
    "              \"2HWC J1040+308\":[2.79636653,0.53878314], \n",
    "              \"2HWC J1104+381\":[2.89916642,0.66601764], \n",
    "              \"2HWC J1309-054\":[3.44370915,-0.09581858],\n",
    "              \"2HWC J1653+397\":[4.42406059,0.69446651],\n",
    "              \"2HWC J1809-190\":[4.75532408,-0.33231069], \n",
    "              \"2HWC J1812-126\":[4.76841405,-0.22060962],\n",
    "              \"2HWC J1814-173\":[4.77382457,-0.30211649],\n",
    "              \"2HWC J1819-150*\":[4.79668838,-0.26284659],\n",
    "              \"2HWC J1825-134\":[4.82513725,-0.2338741],\n",
    "              \"2HWC J1829+070\":[4.84049615,0.1226966],\n",
    "              \"2HWC J1831-098\":[4.84974639,-0.172788],\n",
    "              \"2HWC J1837-065\":[4.8757518,-0.1148427],\n",
    "              \"2HWC J1844-032\":[4.90559693,-0.0567232],\n",
    "              \"2HWC J1847-018\":[4.92095583,-0.03193953],\n",
    "              \"2HWC J1849+001\":[4.92863527,0.00191986],\n",
    "              \"2HWC J1852+013*\":[4.93945632,0.02408554],\n",
    "              \"2HWC J1857+027\":[4.96249466,0.0488692],\n",
    "              \"2HWC J1902+048*\":[4.98308955,0.084823],\n",
    "              \"2HWC J1907+084*\":[5.00542976,0.148353],\n",
    "              \"2HWC J1908+063\":[5.00996762,0.1115265],\n",
    "              \"2HWC J1912+099\":[5.02846811,0.1733112],\n",
    "              \"2HWC J1914+117*\":[5.03841648,0.20455259],\n",
    "              \"2HWC J1921+131\":[3.3213616,0.22916173],\n",
    "              \"2HWC J1922+140\":[5.0736721,0.24591689],\n",
    "              \"2HWC J1928+177\":[5.09897941,0.31031954],\n",
    "              \"2HWC J1930+188\":[5.10735699,0.32882003],\n",
    "              \"2HWC J1938+238\":[5.14418344,0.41556289],\n",
    "              \"2HWC J1949+244\":[5.19095826,0.42690754],\n",
    "              \"2HWC J1953+294\":[5.20561903,0.51452306],\n",
    "              \"2HWC J1955+285\":[5.2155674,0.49898963],\n",
    "              \"2HWC J2006+341\":[5.26304036,0.59655354],\n",
    "              \"2HWC J2019+367\":[5.32220702,0.6422812],\n",
    "              \"2HWC J2020+403\":[5.32604675,0.70458942],\n",
    "              \"2HWC J2024+417*\":[5.34140564,0.7288495],\n",
    "              \"2HWC J2031+415,\":[5.37439237,0.72448617],\n",
    "             }\n",
    "print(srcs)"
   ]
  },
  {
   "cell_type": "code",
   "execution_count": 105,
   "metadata": {},
   "outputs": [
    {
     "name": "stdout",
     "output_type": "stream",
     "text": [
      "#ID Deposited Energy TeV  Time MJD     Declination deg.  RA deg.  Med. Ang. Resolution deg.  Topology\n",
      "\n",
      "  1   47.6   -5.4   +6.5   55351.3222143   -1.8                35.2      16.3                         Shower\n",
      "\n",
      "{'ra': 0.6143558965866667, 'dec': -0.03141592653, 'ang_error': 0.28448866802166667}\n",
      "  2  117.0  -14.6  +15.4   55351.4659661  -28.0               282.6      25.4                         Shower\n",
      "\n",
      "{'ra': 4.93230046521, 'dec': -0.4886921904666667, 'ang_error': 0.4433136299233333}\n",
      "  3   78.7   -8.7  +10.8   55451.0707482  -31.2               127.9       1.4                         Track\n",
      "\n",
      "{'ra': 2.232276112881667, 'dec': -0.54454272652, 'ang_error': 0.02443460952333333}\n",
      "  4  165.4  -14.9  +19.8   55477.3930984  -51.2               169.5       7.1                         Shower\n",
      "\n",
      "{'ra': 2.958333081575, 'dec': -0.8936085768533334, 'ang_error': 0.12391837686833333}\n",
      "  5   71.4   -9.0   +9.0   55512.5516311   -0.4               110.6       1.2                         Track\n",
      "\n",
      "{'ra': 1.9303341523433333, 'dec': -0.006981317006666667, 'ang_error': 0.02094395102}\n",
      "  6   28.4   -2.5   +2.7   55567.6388127  -27.2               133.9       9.8                         Shower\n",
      "\n",
      "{'ra': 2.336995867981667, 'dec': -0.4747295564533333, 'ang_error': 0.17104226666333333}\n",
      "  7   34.3   -4.3   +3.5   55571.2585362  -45.1                15.6      24.1                         Shower\n",
      "\n",
      "{'ra': 0.27227136326, 'dec': -0.7871434925016667, 'ang_error': 0.4206243496516667}\n",
      "  8   32.6  -11.1  +10.3   55608.8201315  -21.2               182.4       1.3                         Track\n",
      "\n",
      "{'ra': 3.18348055504, 'dec': -0.37000980135333333, 'ang_error': 0.022689280271666667}\n",
      "  9   63.2   -8.0   +7.1   55685.6629713   33.6               151.3      16.5                         Shower\n",
      "\n",
      "{'ra': 2.640683157771667, 'dec': 0.5864306285600001, 'ang_error': 0.287979326525}\n",
      " 10   97.2  -12.4  +10.4   55695.2730461  -29.4                 5.0       8.1                         Shower\n",
      "\n",
      "{'ra': 0.08726646258333333, 'dec': -0.51312679999, 'ang_error': 0.14137166938499998}\n",
      " 11   88.4  -10.7  +12.5   55714.5909345   -8.9               155.3      16.7                         Shower\n",
      "\n",
      "{'ra': 2.7104963278383334, 'dec': -0.15533430339833335, 'ang_error': 0.2914699850283333}\n",
      " 12  104.1  -13.2  +12.5   55739.4411232  -52.8               296.1       9.8                         Shower\n",
      "\n",
      "{'ra': 5.167919914185, 'dec': -0.9215338448799999, 'ang_error': 0.17104226666333333}\n",
      " 13  252.7  -21.6  +25.9   55756.1129844   40.3                67.9       1.2                         Track\n",
      "\n",
      "{'ra': 1.1850785618816668, 'dec': 0.7033676884216666, 'ang_error': 0.02094395102}\n",
      " 14 1040.7 -144.4 +131.6   55782.5161911  -27.9               265.6      13.2                         Shower\n",
      "\n",
      "{'ra': 4.635594492426667, 'dec': -0.48694686121499997, 'ang_error': 0.23038346121999997}\n",
      " 15   57.5   -7.8   +8.3   55783.1854223  -49.7               287.3      19.7                         Shower\n",
      "\n",
      "{'ra': 5.014330940038334, 'dec': -0.8674286380783334, 'ang_error': 0.3438298625783333}\n",
      " 16   30.6   -3.5   +3.6   55798.6271285  -22.6               192.1      19.4                         Shower\n",
      "\n",
      "{'ra': 3.3527774924516667, 'dec': -0.3944444108766667, 'ang_error': 0.3385938748233333}\n",
      " 17  199.7  -26.8  +27.2   55800.3755483   14.5               247.4      11.6                         Shower\n",
      "\n",
      "{'ra': 4.317944568623333, 'dec': 0.25307274149166664, 'ang_error': 0.20245819319333333}\n",
      " 18   31.5   -3.3   +4.6   55923.5318204  -24.8               345.6       1.3                         Track\n",
      "\n",
      "{'ra': 6.031857893760001, 'dec': -0.43284165441333333, 'ang_error': 0.022689280271666667}\n",
      " 19   71.5   -7.2   +7.0   55925.7958619  -59.7                76.9       9.7                         Shower\n",
      "\n",
      "{'ra': 1.3421581945316667, 'dec': -1.041961563245, 'ang_error': 0.16929693741166665}\n",
      " 20 1140.8 -132.8 +142.8   55929.3986279  -67.2                38.3      10.7                         Shower\n",
      "\n",
      "{'ra': 0.6684611033883333, 'dec': -1.1728612571200001, 'ang_error': 0.18675022992833332}\n",
      " 21   30.2   -3.3   +3.5   55936.5416484  -24.0                 9.0      20.9                         Shower\n",
      "\n",
      "{'ra': 0.15707963265, 'dec': -0.4188790204, 'ang_error': 0.36477381359833333}\n",
      " 22  219.5  -24.4  +21.2   55941.9757813  -22.1               293.7      12.1                         Shower\n",
      "\n",
      "{'ra': 5.126032012145, 'dec': -0.38571776461833335, 'ang_error': 0.21118483945166666}\n",
      " 23   82.2   -8.4   +8.6   55949.5693228  -13.2               208.7       1.9                         Track\n",
      "\n",
      "{'ra': 3.642502148228333, 'dec': -0.23038346121999997, 'ang_error': 0.03316125578166666}\n",
      " 24   30.5   -2.6   +3.2   55950.8474912  -15.1               282.2      15.5                         Shower\n",
      "\n",
      "{'ra': 4.925319148203333, 'dec': -0.26354471700166665, 'ang_error': 0.2705260340083333}\n",
      " 25   33.5   -5.0   +4.9   55966.7422488  -14.5               286.0      46.3                         Shower\n",
      "\n",
      "{'ra': 4.991641659766667, 'dec': -0.25307274149166664, 'ang_error': 0.8080874435216666}\n",
      " 26  210.0  -25.8  +29.0   55979.2551750   22.7               143.4      11.8                         Shower\n",
      "\n",
      "{'ra': 2.50280214689, 'dec': 0.3961897401283333, 'ang_error': 0.20594885169666668}\n",
      " 27   60.2   -5.6   +5.6   56008.6845644  -12.6               121.7       6.6                         Shower\n",
      "\n",
      "{'ra': 2.1240656992783333, 'dec': -0.21991148571, 'ang_error': 0.11519173060999999}\n",
      " 28   46.1   -4.4   +5.7   56048.5704209  -71.5               164.8       1.3                         Track\n",
      "\n",
      "{'ra': 2.876302606746667, 'dec': -1.2479104149416667, 'ang_error': 0.022689280271666667}\n",
      " 29   32.7   -2.9   +3.2   56108.2572046   41.0               298.1       7.4                         Shower\n",
      "\n",
      "{'ra': 5.202826499218333, 'dec': 0.7155849931833334, 'ang_error': 0.12915436462333335}\n",
      " 30  128.7  -12.5  +13.8   56115.7283574  -82.7               103.2       8.0                         Shower\n",
      "\n",
      "{'ra': 1.80117978772, 'dec': -1.4433872911283334, 'ang_error': 0.13962634013333333}\n",
      " 31   42.5   -5.7   +5.4   56176.3914143   78.3               146.1      26.0                         Shower\n",
      "\n",
      "{'ra': 2.549926036685, 'dec': 1.366592804055, 'ang_error': 0.45378560543333335}\n",
      " 33  384.7  -48.6  +46.4   56221.3424023    7.8               292.5      13.5                         Shower\n",
      "\n",
      "{'ra': 5.105088061125, 'dec': 0.13613568163, 'ang_error': 0.235619448975}\n",
      " 34   42.1   -6.3   +6.5   56228.6055226   31.3               323.4      42.7                         Shower\n",
      "\n",
      "{'ra': 5.64439479989, 'dec': 0.5462880557716667, 'ang_error': 0.7452555904616667}\n",
      " 35 2003.7 -261.5 +236.2   56265.1338677  -55.8               208.4      15.9                         Shower\n",
      "\n",
      "{'ra': 3.6372661604733336, 'dec': -0.9738937224299999, 'ang_error': 0.277507351015}\n",
      " 36   28.9   -2.6   +3.0   56308.1642740   -3.0               257.7      11.7                         Shower\n",
      "\n",
      "{'ra': 4.4977134815449995, 'dec': -0.05235987755, 'ang_error': 0.20420352244499998}\n",
      " 37   30.8   -3.5   +3.3   56390.1887627   20.7               167.3       1.2                         Track\n",
      "\n",
      "{'ra': 2.9199358380383336, 'dec': 0.361283155095, 'ang_error': 0.02094395102}\n",
      " 38  200.5  -16.4  +16.4   56470.1103795   14.0                93.3       1.2                         Track\n",
      "\n",
      "{'ra': 1.628392191805, 'dec': 0.24434609523333334, 'ang_error': 0.02094395102}\n",
      " 39  101.3  -11.6  +13.3   56480.6617877  -17.9               106.2      14.2                         Shower\n",
      "\n",
      "{'ra': 1.85353966527, 'dec': -0.3124139360483333, 'ang_error': 0.24783675373666667}\n",
      " 40  157.3  -16.7  +15.9   56501.1641008  -48.5               143.9      11.7                         Shower\n",
      "\n",
      "{'ra': 2.5115287931483334, 'dec': -0.8464846870583334, 'ang_error': 0.20420352244499998}\n",
      " 41   87.6  -10.0   +8.4   56603.1116854    3.3                66.1      11.1                         Shower\n",
      "\n",
      "{'ra': 1.1536626353516666, 'dec': 0.057595865304999994, 'ang_error': 0.193731546935}\n",
      " 42   76.3  -11.6  +10.3   56613.2566890  -25.3                42.5      20.7                         Shower\n",
      "\n",
      "{'ra': 0.7417649319583334, 'dec': -0.4415683006716667, 'ang_error': 0.361283155095}\n",
      " 43   46.5   -4.5   +5.9   56628.5688531  -22.0               206.6       1.3                         Track\n",
      "\n",
      "{'ra': 3.6058502339433334, 'dec': -0.38397243536666664, 'ang_error': 0.022689280271666667}\n",
      " 44   84.6   -7.9   +7.4   56671.8778763    0.0               336.7       1.2                         Track\n",
      "\n",
      "{'ra': 5.876523590361667, 'dec': 0.0, 'ang_error': 0.02094395102}\n",
      " 45  429.9  -49.1  +57.4   56679.2044683  -86.3               219.0       1.2                         Track\n",
      "\n",
      "{'ra': 3.82227106115, 'dec': -1.5062191441883332, 'ang_error': 0.02094395102}\n",
      " 46  158.0  -16.6  +15.3   56688.0702948  -22.3               150.5       7.6                         Shower\n",
      "\n",
      "{'ra': 2.6267205237583333, 'dec': -0.3892084231216667, 'ang_error': 0.13264502312666665}\n",
      " 47   74.3   -7.2   +8.3   56704.6001074   67.4               209.4       1.2                         Track\n",
      "\n",
      "{'ra': 3.6547194529900002, 'dec': 1.1763519156233335, 'ang_error': 0.02094395102}\n",
      " 48  104.7  -10.2  +13.5   56705.9419933  -33.2               213.0       8.1                         Shower\n",
      "\n",
      "{'ra': 3.71755130605, 'dec': -0.5794493115533333, 'ang_error': 0.14137166938499998}\n",
      " 49   59.9   -7.9   +8.3   56722.4083554  -26.3               203.2      21.8                         Shower\n",
      "\n",
      "{'ra': 3.5465090393866663, 'dec': -0.45902159318833335, 'ang_error': 0.38048177686333334}\n",
      " 50   22.2   -2.0   +2.3   56737.2004652   59.3               168.6       8.2                         Shower\n",
      "\n",
      "{'ra': 2.94262511831, 'dec': 1.0349802462383333, 'ang_error': 0.14311699863666666}\n",
      " 51   66.2   -6.1   +6.7   56759.2159560   54.0                88.6       6.5                         Shower\n",
      "\n",
      "{'ra': 1.5463617169766666, 'dec': 0.9424777959, 'ang_error': 0.11344640135833334}\n",
      " 52  158.1  -18.4  +16.3   56763.5448147  -54.0               252.8       7.8                         Shower\n",
      "\n",
      "{'ra': 4.412192348213334, 'dec': -0.9424777959, 'ang_error': 0.13613568163}\n",
      " 53   27.6   -2.2   +2.6   56767.0663034  -37.7               239.0       1.2                         Track\n",
      "\n",
      "{'ra': 4.171336911483333, 'dec': -0.6579891278783334, 'ang_error': 0.02094395102}\n",
      " 54   54.5   -6.3   +5.1   56769.0295975    6.0               170.5      11.6                         Shower\n",
      "\n",
      "{'ra': 2.975786374091667, 'dec': 0.1047197551, 'ang_error': 0.20245819319333333}\n"
     ]
    }
   ],
   "source": [
    "# step 2 - load the neutrino events under data/eventsummary_4years.txt which each column as a separate field\n",
    "\n",
    "events = {}\n",
    "f = open(\"/Users/Cecelia/Desktop/likelihood-example/data/eventsummary_4years.txt\",'r')\n",
    "for line in f:\n",
    "    print (line)\n",
    "    if \"#\" in line: continue\n",
    "    toRad = 3.141592653/180\n",
    "    eventID = int(line.split()[0])\n",
    "    dec = float(line.split()[5])*toRad\n",
    "    ra = float(line.split()[6])*toRad\n",
    "    ang_error = float(line.split()[7])*toRad\n",
    "    \n",
    "    events[eventID] = {\"ra\": ra, \"dec\": dec,\"ang_error\": ang_error}\n",
    "    print(events[eventID])\n",
    "    "
   ]
  },
  {
   "cell_type": "code",
   "execution_count": 106,
   "metadata": {
    "scrolled": true
   },
   "outputs": [
    {
     "data": {
      "text/plain": [
       "0.0016705204440728976"
      ]
     },
     "execution_count": 106,
     "metadata": {},
     "output_type": "execute_result"
    }
   ],
   "source": [
    "# step 3 - calculate the angular probablitiy between one source and one neutrino event\n",
    "# using the event_angular_distribution function below\n",
    "\n",
    "import numpy as np\n",
    "\n",
    "def sph_dot(th1,th2,phi1,phi2):\n",
    "    return np.sin(th1)*np.sin(th2)*np.cos(phi1-phi2) + np.cos(th1)*np.cos(th2)\n",
    "\n",
    "# Implementation of the kent distribution\n",
    "def event_angular_distribution(event,src):\n",
    "    #print (event)\n",
    "    #print (src)\n",
    "    kappa = 1./(event[\"ang_error\"])**2\n",
    "    log_dist = np.log(kappa) - np.log(2*np.pi) - kappa + kappa*sph_dot(np.pi/2-event[\"dec\"], np.pi/2-src[1], event[\"ra\"], src[0])\n",
    "    return np.exp(log_dist)\n",
    "\n",
    "event_angular_distribution(events[1], sources[\"2HWC J0631+169\"])"
   ]
  },
  {
   "cell_type": "code",
   "execution_count": 107,
   "metadata": {},
   "outputs": [
    {
     "name": "stdout",
     "output_type": "stream",
     "text": [
      "[0.0016705204440728976, 3.4301764455542314e-05, 4.607162147469624e-320, 4.6401177035457354e-29, 2.8315119799281603e-66, 1.3635517503186627e-06, 0.0016223225469062072, 0.0, 0.02434696853723789, 1.2729833027299594e-25, 0.0034561367741548945, 1.8848430708807395e-26, 2.7676649749942208e-176, 2.6364325167951882e-16, 2.477108867524934e-07, 4.8929303193140589e-05, 2.1179134661451576e-18, 0.0, 3.8693886296882525e-12, 1.5086658114275507e-13, 0.00029888633520273086, 2.7380464815381742e-19, 0.0, 3.0681057221495545e-12, 0.011571465683964225, 0.0068095443093030604, 1.7037518254182864e-06, 0.0, 1.9581548959188299e-38, 7.4255990554816349e-26, 0.045293717005503838, 5.8793567099664852e-15, 0.022151662149975743, 1.8009355141867298e-08, 4.7741137768516143e-20, 0.0, 0.012997307299268554, 0.11914591101421068, 3.0121164565081482e-08, 0.04263373480981187, 0.0093863375348656238, 0.0, 0.0, 0.0, 6.7554195586810134e-14, 0.0, 2.2060738988390687e-32, 9.5110710560269074e-05, 2.8588141574985275e-12, 1.1030837642194627e-06, 1.0935849305464696e-40, 0.0, 2.2273270899106562e-07]\n"
     ]
    }
   ],
   "source": [
    "# step 4 - calculate angular probability between one source and all neutrino events as a list or array\n",
    "angular_probability = []\n",
    "\n",
    "f = open(\"/Users/Cecelia/Desktop/likelihood-example/data/eventsummary_4years.txt\",'r')\n",
    "ids = []\n",
    "for line in f:\n",
    "    if \"#\" in line: continue\n",
    "    ids.append(int(line.split()[0]))\n",
    "for ID in ids:\n",
    "    prob = event_angular_distribution(events[ID],sources[\"2HWC J0631+169\"])\n",
    "    angular_probability.append(prob)\n",
    "print(angular_probability)"
   ]
  },
  {
   "cell_type": "code",
   "execution_count": 108,
   "metadata": {
    "scrolled": true
   },
   "outputs": [
    {
     "name": "stdout",
     "output_type": "stream",
     "text": [
      "0.301567545194\n"
     ]
    }
   ],
   "source": [
    "# step 5 - sum the angular probabilities of all events for one source\n",
    "def addition(array):\n",
    "    sum = 0\n",
    "    for number in array:\n",
    "        sum+=number\n",
    "    print(sum)\n",
    "addition(angular_probability)"
   ]
  },
  {
   "cell_type": "code",
   "execution_count": 109,
   "metadata": {
    "scrolled": false
   },
   "outputs": [
    {
     "name": "stdout",
     "output_type": "stream",
     "text": [
      "5.73238631421\n"
     ]
    }
   ],
   "source": [
    "import numpy as np\n",
    "def L(sources,ns):\n",
    "    sum = 0.\n",
    "    N = len(events)\n",
    "    for key in events:\n",
    "        sum += np.log( (float(ns)/N)*event_angular_distribution(events[key], sources) + (1 - float(ns)/N)/(4*np.pi) )\n",
    "    return sum * -2\n",
    "print(L(sources[\"2HWC J0631+169\"],3)-L(sources[\"2HWC J0631+169\"],0))"
   ]
  },
  {
   "cell_type": "code",
   "execution_count": 110,
   "metadata": {
    "collapsed": true
   },
   "outputs": [],
   "source": [
    "import matplotlib as mpl\n",
    "mpl.use(\"Agg\")\n",
    "import matplotlib.pyplot as plt"
   ]
  },
  {
   "cell_type": "code",
   "execution_count": 111,
   "metadata": {
    "collapsed": true
   },
   "outputs": [],
   "source": [
    "import numpy as np\n",
    "\n",
    "def loadEvents(filename):\n",
    "    ID,E,EerrMin,EerrMax,DEC,RA,Anger = np.loadtxt(filename,comments='#',usecols=(0,1,2,3,5,6,7), unpack =True)\n",
    "    #for i in range(len(ID)):\n",
    "    #    print ID[i], DEC[i]\n",
    "    topo = np.loadtxt(filename,comments='#',usecols=[8], unpack =True, dtype = 'str')\n",
    "    \n",
    "    array = np.recarray(len(E), [('topology', topo.dtype),\n",
    "                                 ('energy', float),\n",
    "                                 ('energy_error', float),\n",
    "                                 ('RA', float),\n",
    "                                 ('DEC', float),\n",
    "                                 ('ID', int),\n",
    "                                 ('angular_error', float)])\n",
    "    array.ID[:] = ID\n",
    "    array.topology[:] = topo\n",
    "    array.energy[:], array.energy_error[:] = E, np.array([EerrMin, EerrMax]).max(axis=0)\n",
    "    array.RA[:], array.DEC[:], array.angular_error[:] = np.radians(RA), np.radians(DEC), np.radians(Anger)\n",
    "    \n",
    "    return array\n",
    "\n",
    "HESEevents = loadEvents(\"data/eventsummary_4years.txt\")\n",
    "\n",
    "# convert neutrino event location to degrees for plotting later (it's easier to visualize in degrees)\n",
    "HESEevents.RA  = np.degrees( HESEevents.RA )\n",
    "HESEevents.DEC = np.degrees( HESEevents.DEC )\n",
    "HESEevents.angular_error = np.degrees( HESEevents.angular_error )"
   ]
  },
  {
   "cell_type": "code",
   "execution_count": 112,
   "metadata": {},
   "outputs": [
    {
     "name": "stdout",
     "output_type": "stream",
     "text": [
      "[('Track',  200.5,  16.4,  93.3,  14., 38,  1.2)]\n",
      "[('Track',  200.5,  16.4,  93.3,  14., 38,  1.2)]\n",
      "[('Track',  200.5,  16.4,  93.3,  14., 38,  1.2)]\n",
      "[]\n",
      "[]\n",
      "[('Shower',  63.2,  7.1,  151.3,  33.6, 9,  16.5)]\n",
      "[]\n",
      "[]\n",
      "[]\n",
      "[('Shower',  1040.7,  131.6,  265.6, -27.9, 14,  13.2)\n",
      " ('Shower',    30.5,    3.2,  282.2, -15.1, 24,  15.5)]\n",
      "[('Shower',  30.5,  3.2,  282.2, -15.1, 24,  15.5)]\n",
      "[('Shower',  30.5,  3.2,  282.2, -15.1, 24,  15.5)]\n",
      "[('Shower',  30.5,  3.2,  282.2, -15.1, 24,  15.5)]\n",
      "[('Shower',  30.5,  3.2,  282.2, -15.1, 24,  15.5)\n",
      " ('Shower',  33.5,  4.9,  286. , -14.5, 25,  46.3)]\n",
      "[]\n",
      "[('Shower',  30.5,  3.2,  282.2, -15.1, 24,  15.5)\n",
      " ('Shower',  33.5,  4.9,  286. , -14.5, 25,  46.3)]\n",
      "[('Shower',  30.5,  3.2,  282.2, -15.1, 24,  15.5)\n",
      " ('Shower',  33.5,  4.9,  286. , -14.5, 25,  46.3)]\n",
      "[]\n",
      "[]\n",
      "[]\n",
      "[('Shower',  384.7,  46.4,  292.5,  7.8, 33,  13.5)]\n",
      "[('Shower',  384.7,  46.4,  292.5,  7.8, 33,  13.5)]\n",
      "[('Shower',  384.7,  46.4,  292.5,  7.8, 33,  13.5)]\n",
      "[('Shower',  384.7,  46.4,  292.5,  7.8, 33,  13.5)]\n",
      "[('Shower',  384.7,  46.4,  292.5,  7.8, 33,  13.5)]\n",
      "[('Shower',  384.7,  46.4,  292.5,  7.8, 33,  13.5)]\n",
      "[('Shower',  384.7,  46.4,  292.5,  7.8, 33,  13.5)]\n",
      "[]\n",
      "[('Shower',  384.7,  46.4,  292.5,  7.8, 33,  13.5)]\n",
      "[('Shower',  384.7,  46.4,  292.5,  7.8, 33,  13.5)]\n",
      "[]\n",
      "[]\n",
      "[]\n",
      "[]\n",
      "[]\n",
      "[('Shower',  32.7,  3.2,  298.1,  41., 29,  7.4)]\n",
      "[('Shower',  32.7,  3.2,  298.1,  41., 29,  7.4)]\n",
      "[('Shower',  32.7,  3.2,  298.1,  41., 29,  7.4)]\n",
      "[('Shower',  32.7,  3.2,  298.1,  41., 29,  7.4)]\n",
      "[('Shower',  32.7,  3.2,  298.1,  41., 29,  7.4)]\n"
     ]
    }
   ],
   "source": [
    "for source in sources:\n",
    "    # plot events near HAWC source 2HWC J0631+169 (Geminga)\n",
    "    src_ra  = sources[source][0]*180/3.141592653\n",
    "    src_dec = sources[source][1]*180/3.141592653\n",
    "    #builds scatter plot\n",
    "    plt.scatter(x=HESEevents.RA, y=HESEevents.DEC,\n",
    "            s=10*HESEevents.angular_error, # s is the marker size, I set it to scale with angular error\n",
    "            marker='o',color='g')\n",
    "\n",
    "\n",
    "    # zoom to region centered on source\n",
    "    dx = 10\n",
    "    plt.xlim(src_ra - dx, src_ra + dx)\n",
    "\n",
    "    dy = dx # setting dy = dx just draws a square\n",
    "    plt.ylim(src_dec - dy, src_dec + dy)\n",
    "\n",
    "    # print list of nearby events\n",
    "    mask = ((HESEevents.RA  > src_ra  - dx) & (HESEevents.RA  < src_ra  + dx)) & \\\n",
    "           ((HESEevents.DEC > src_dec - dy) & (HESEevents.DEC < src_dec + dy)) \n",
    "    print(HESEevents[mask])\n",
    "    \n",
    "    # this will create a picture inside the likelihood-example folder\n",
    "    # called event_locations.png. Open it and take a look. \n",
    "    plt.savefig(source+\"_event_locations.png\")\n",
    "    plt.clf() # clear figure for making more plots later"
   ]
  },
  {
   "cell_type": "code",
   "execution_count": 122,
   "metadata": {},
   "outputs": [],
   "source": [
    "def H(source,ns):\n",
    "    sum = 0.\n",
    "    N   = len(events)\n",
    "    for key in events:\n",
    "        #print(events[key], source)\n",
    "        sum += np.log((float(ns)/N)*event_angular_distribution(events[key], source)+(1 - float(ns)/N)/(4*np.pi))\n",
    "    return 2*sum\n",
    "\n",
    "def TS(source,ns):\n",
    "    return H(source, ns)-H(source,0)\n"
   ]
  },
  {
   "cell_type": "code",
   "execution_count": 123,
   "metadata": {},
   "outputs": [
    {
     "name": "stdout",
     "output_type": "stream",
     "text": [
      "-0.172788\n",
      "Most Likely answer: TS 1.07, ns 2.50\n"
     ]
    },
    {
     "data": {
      "image/png": "[encoded data removed]",
      "text/plain": [
       "<matplotlib.figure.Figure at 0x104ba4080>"
      ]
     },
     "metadata": {},
     "output_type": "display_data"
    }
   ],
   "source": [
    "%matplotlib inline \n",
    "\n",
    "mysource = sources['2HWC J1831-098'][1] # pick one source from the catalogue to examine\n",
    "print (mysource)\n",
    "\n",
    "\n",
    "x=[]\n",
    "y=[]\n",
    "ns_best = 0\n",
    "ts_best = 0\n",
    "\n",
    "N = len(events)\n",
    "\n",
    "source = sources['2HWC J1831-098']\n",
    "\n",
    "# maximize TS with simple grid search over all possible ns values\n",
    "# NOTE: ns can be fractional number of events because it represents\n",
    "#       an estimate on the mean number of signal events in your\n",
    "#       data sample\n",
    "for ns in np.arange(0, len(events), 0.1):\n",
    "    ts=TS(source,ns)\n",
    "    \n",
    "    x.append(ns)\n",
    "    y.append(ts)\n",
    "    \n",
    "    #H1 = H(mysource, ns)\n",
    "    #H0 = H(mysource, 0)\n",
    "    #TS = 2 * ( H1 / H0 )\n",
    "    #print (\" H1 %.2f, H0 %.2f, TS %.2f, ns %.2f\" % (H1, H0, TS, ns))\n",
    "    \n",
    "    if (ts > ts_best):\n",
    "        ts_best = ts\n",
    "        ns_best = ns\n",
    "        \n",
    "plt.plot(x,y)\n",
    "plt.xlabel(\"Signal Events (NS)\")\n",
    "plt.xlim(0,10)\n",
    "plt.ylabel(\"Test Statistics (TS)\")\n",
    "plt.ylim(0,5)\n",
    "print (\"Most Likely answer: TS %.2f, ns %.2f\" % (ts_best, ns_best))\n",
    "\n",
    "plt.show()\n"
   ]
  },
  {
   "cell_type": "code",
   "execution_count": null,
   "metadata": {
    "collapsed": true
   },
   "outputs": [],
   "source": [
    "# values of TS for different assumed numbers of signal events (ns)\n",
    "ns = [1, 2, 3, 4, 5]\n",
    "TS = [1.87, 3.78, 5.73, 7.72, 9.74]\n",
    "\n",
    "plt.scatter(x=ns, y=TS, marker='o')\n",
    "plt.xlabel(\"Number of signal events (ns)\")\n",
    "plt.ylabel(\"Test Statistic (TS)\")\n",
    "\n",
    "# some limits that work with these values of ns, TS\n",
    "# you'll probably need to change these to look at other sources\n",
    "plt.xlim(0,5)\n",
    "plt.ylim(0,10)\n",
    "\n",
    "plt.savefig(\"ts_versus_ns.png\")\n",
    "plt.clf() # clear figure for making more plots later"
   ]
  },
  {
   "cell_type": "code",
   "execution_count": null,
   "metadata": {
    "collapsed": true
   },
   "outputs": [],
   "source": []
  },
  {
   "cell_type": "code",
   "execution_count": null,
   "metadata": {
    "collapsed": true
   },
   "outputs": [],
   "source": []
  }
 ],
 "metadata": {
  "kernelspec": {
   "display_name": "Python 3",
   "language": "python",
   "name": "python3"
  },
  "language_info": {
   "codemirror_mode": {
    "name": "ipython",
    "version": 3
   },
   "file_extension": ".py",
   "mimetype": "text/x-python",
   "name": "python",
   "nbconvert_exporter": "python",
   "pygments_lexer": "ipython3",
   "version": "3.6.3"
  }
 },
 "nbformat": 4,
 "nbformat_minor": 2
}
